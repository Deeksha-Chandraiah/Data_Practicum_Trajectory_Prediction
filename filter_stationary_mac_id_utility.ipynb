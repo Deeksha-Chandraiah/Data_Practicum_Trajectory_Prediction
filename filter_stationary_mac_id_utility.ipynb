{
 "cells": [
  {
   "cell_type": "markdown",
   "metadata": {},
   "source": [
    "    Author: Eswar Lakshminarayanan"
   ]
  },
  {
   "cell_type": "code",
   "execution_count": 37,
   "metadata": {},
   "outputs": [],
   "source": [
    "import numpy as np\n",
    "import pandas as pd"
   ]
  },
  {
   "cell_type": "code",
   "execution_count": 2,
   "metadata": {},
   "outputs": [
    {
     "name": "stdout",
     "output_type": "stream",
     "text": [
      "CPU times: user 2min 2s, sys: 9.7 s, total: 2min 12s\n",
      "Wall time: 2min 12s\n"
     ]
    }
   ],
   "source": [
    "%%time\n",
    "df = pd.read_csv('/home/opc/extra_space/pre_processing11/last10.csv',header=0)"
   ]
  },
  {
   "cell_type": "code",
   "execution_count": 6,
   "metadata": {},
   "outputs": [
    {
     "data": {
      "text/html": [
       "<div>\n",
       "<style scoped>\n",
       "    .dataframe tbody tr th:only-of-type {\n",
       "        vertical-align: middle;\n",
       "    }\n",
       "\n",
       "    .dataframe tbody tr th {\n",
       "        vertical-align: top;\n",
       "    }\n",
       "\n",
       "    .dataframe thead th {\n",
       "        text-align: right;\n",
       "    }\n",
       "</style>\n",
       "<table border=\"1\" class=\"dataframe\">\n",
       "  <thead>\n",
       "    <tr style=\"text-align: right;\">\n",
       "      <th></th>\n",
       "      <th>ClientMacAddr</th>\n",
       "      <th>just_date</th>\n",
       "      <th>Level</th>\n",
       "      <th>lat</th>\n",
       "      <th>lng</th>\n",
       "      <th>just_time</th>\n",
       "    </tr>\n",
       "  </thead>\n",
       "  <tbody>\n",
       "    <tr>\n",
       "      <th>0</th>\n",
       "      <td>0</td>\n",
       "      <td>2018-04-01</td>\n",
       "      <td>['L5', 'L5', 'L5', 'L5', 'L5', 'L5', 'L5']</td>\n",
       "      <td>[1.2906748, 1.2906748, 1.2906748, 1.2906748, 1...</td>\n",
       "      <td>[103.851654, 103.851654, 103.851654, 103.85165...</td>\n",
       "      <td>['14:03:33', '14:03:43', '14:03:43', '14:03:23...</td>\n",
       "    </tr>\n",
       "    <tr>\n",
       "      <th>1</th>\n",
       "      <td>0</td>\n",
       "      <td>2018-04-02</td>\n",
       "      <td>['L5', 'L5', 'L5', 'L5']</td>\n",
       "      <td>[1.290855, 1.2908567, 1.290855, 1.290855]</td>\n",
       "      <td>[103.85172, 103.85172, 103.85172, 103.85172]</td>\n",
       "      <td>['01:14:41', '01:04:18', '01:14:32', '01:14:26']</td>\n",
       "    </tr>\n",
       "  </tbody>\n",
       "</table>\n",
       "</div>"
      ],
      "text/plain": [
       "   ClientMacAddr   just_date                                       Level  \\\n",
       "0              0  2018-04-01  ['L5', 'L5', 'L5', 'L5', 'L5', 'L5', 'L5']   \n",
       "1              0  2018-04-02                    ['L5', 'L5', 'L5', 'L5']   \n",
       "\n",
       "                                                 lat  \\\n",
       "0  [1.2906748, 1.2906748, 1.2906748, 1.2906748, 1...   \n",
       "1          [1.290855, 1.2908567, 1.290855, 1.290855]   \n",
       "\n",
       "                                                 lng  \\\n",
       "0  [103.851654, 103.851654, 103.851654, 103.85165...   \n",
       "1       [103.85172, 103.85172, 103.85172, 103.85172]   \n",
       "\n",
       "                                           just_time  \n",
       "0  ['14:03:33', '14:03:43', '14:03:43', '14:03:23...  \n",
       "1   ['01:14:41', '01:04:18', '01:14:32', '01:14:26']  "
      ]
     },
     "execution_count": 6,
     "metadata": {},
     "output_type": "execute_result"
    }
   ],
   "source": [
    "df.head(2)"
   ]
  },
  {
   "cell_type": "markdown",
   "metadata": {},
   "source": [
    "### Calculate number of unique lat, lon points in each trajectory"
   ]
  },
  {
   "cell_type": "code",
   "execution_count": 8,
   "metadata": {},
   "outputs": [],
   "source": [
    "counter = 0\n",
    "def fn3(list_):\n",
    "    global counter\n",
    "    if counter%100000==0:\n",
    "        counter+=1\n",
    "        print(counter)\n",
    "    return len(set(list_))"
   ]
  },
  {
   "cell_type": "code",
   "execution_count": 9,
   "metadata": {},
   "outputs": [
    {
     "name": "stdout",
     "output_type": "stream",
     "text": [
      "1\n",
      "CPU times: user 6min 58s, sys: 2.35 s, total: 7min\n",
      "Wall time: 7min\n"
     ]
    }
   ],
   "source": [
    "%%time\n",
    "df[\"len_\"] = df.lat.apply(lambda x: fn3(eval(x)))"
   ]
  },
  {
   "cell_type": "markdown",
   "metadata": {},
   "source": [
    "###  Filter all the trajectories which have only one pair unique (lat,lon) points"
   ]
  },
  {
   "cell_type": "code",
   "execution_count": 15,
   "metadata": {},
   "outputs": [],
   "source": [
    "df = df.loc[df.len_>1]"
   ]
  },
  {
   "cell_type": "code",
   "execution_count": 19,
   "metadata": {},
   "outputs": [
    {
     "data": {
      "text/html": [
       "<div>\n",
       "<style scoped>\n",
       "    .dataframe tbody tr th:only-of-type {\n",
       "        vertical-align: middle;\n",
       "    }\n",
       "\n",
       "    .dataframe tbody tr th {\n",
       "        vertical-align: top;\n",
       "    }\n",
       "\n",
       "    .dataframe thead th {\n",
       "        text-align: right;\n",
       "    }\n",
       "</style>\n",
       "<table border=\"1\" class=\"dataframe\">\n",
       "  <thead>\n",
       "    <tr style=\"text-align: right;\">\n",
       "      <th></th>\n",
       "      <th>ClientMacAddr</th>\n",
       "      <th>just_date</th>\n",
       "      <th>Level</th>\n",
       "      <th>lat</th>\n",
       "      <th>lng</th>\n",
       "      <th>just_time</th>\n",
       "      <th>len_</th>\n",
       "    </tr>\n",
       "  </thead>\n",
       "  <tbody>\n",
       "    <tr>\n",
       "      <th>1</th>\n",
       "      <td>0</td>\n",
       "      <td>2018-04-02</td>\n",
       "      <td>['L5', 'L5', 'L5', 'L5']</td>\n",
       "      <td>[1.290855, 1.2908567, 1.290855, 1.290855]</td>\n",
       "      <td>[103.85172, 103.85172, 103.85172, 103.85172]</td>\n",
       "      <td>['01:14:41', '01:04:18', '01:14:32', '01:14:26']</td>\n",
       "      <td>2</td>\n",
       "    </tr>\n",
       "    <tr>\n",
       "      <th>3</th>\n",
       "      <td>0</td>\n",
       "      <td>2018-04-05</td>\n",
       "      <td>['L5', 'L5', 'L5', 'L5', 'L5', 'L5', 'L5', 'L5...</td>\n",
       "      <td>[1.2906826, 1.2906826, 1.2906826, 1.290687, 1....</td>\n",
       "      <td>[103.85165, 103.85165, 103.85165, 103.85165, 1...</td>\n",
       "      <td>['23:16:57', '23:19:06', '23:15:49', '20:23:17...</td>\n",
       "      <td>10</td>\n",
       "    </tr>\n",
       "    <tr>\n",
       "      <th>4</th>\n",
       "      <td>0</td>\n",
       "      <td>2018-04-06</td>\n",
       "      <td>['L5', 'L5', 'L5', 'L5', 'L5', 'L5', 'L5', 'L5...</td>\n",
       "      <td>[1.290692, 1.2906915, 1.290692, 1.290692, 1.29...</td>\n",
       "      <td>[103.85164, 103.85165, 103.85164, 103.85164, 1...</td>\n",
       "      <td>['00:07:27', '00:04:29', '00:08:02', '00:08:33...</td>\n",
       "      <td>3</td>\n",
       "    </tr>\n",
       "    <tr>\n",
       "      <th>5</th>\n",
       "      <td>0</td>\n",
       "      <td>2018-04-07</td>\n",
       "      <td>['L5', 'L5', 'L5', 'L5', 'L5', 'L5', 'L5', 'L5...</td>\n",
       "      <td>[1.2907802, 1.2906795, 1.2907209, 1.2907996000...</td>\n",
       "      <td>[103.85171, 103.85165, 103.85169, 103.85171, 1...</td>\n",
       "      <td>['17:46:33', '03:48:33', '17:46:10', '17:48:31...</td>\n",
       "      <td>8</td>\n",
       "    </tr>\n",
       "    <tr>\n",
       "      <th>6</th>\n",
       "      <td>0</td>\n",
       "      <td>2018-04-09</td>\n",
       "      <td>['L5', 'L5', 'L5', 'L5', 'L5', 'L5', 'L5', 'L5...</td>\n",
       "      <td>[1.2908536, 1.290855, 1.2908536, 1.2908536, 1....</td>\n",
       "      <td>[103.85172, 103.85172, 103.85172, 103.85172, 1...</td>\n",
       "      <td>['20:20:03', '20:21:41', '20:19:47', '20:19:53...</td>\n",
       "      <td>2</td>\n",
       "    </tr>\n",
       "  </tbody>\n",
       "</table>\n",
       "</div>"
      ],
      "text/plain": [
       "   ClientMacAddr   just_date  \\\n",
       "1              0  2018-04-02   \n",
       "3              0  2018-04-05   \n",
       "4              0  2018-04-06   \n",
       "5              0  2018-04-07   \n",
       "6              0  2018-04-09   \n",
       "\n",
       "                                               Level  \\\n",
       "1                           ['L5', 'L5', 'L5', 'L5']   \n",
       "3  ['L5', 'L5', 'L5', 'L5', 'L5', 'L5', 'L5', 'L5...   \n",
       "4  ['L5', 'L5', 'L5', 'L5', 'L5', 'L5', 'L5', 'L5...   \n",
       "5  ['L5', 'L5', 'L5', 'L5', 'L5', 'L5', 'L5', 'L5...   \n",
       "6  ['L5', 'L5', 'L5', 'L5', 'L5', 'L5', 'L5', 'L5...   \n",
       "\n",
       "                                                 lat  \\\n",
       "1          [1.290855, 1.2908567, 1.290855, 1.290855]   \n",
       "3  [1.2906826, 1.2906826, 1.2906826, 1.290687, 1....   \n",
       "4  [1.290692, 1.2906915, 1.290692, 1.290692, 1.29...   \n",
       "5  [1.2907802, 1.2906795, 1.2907209, 1.2907996000...   \n",
       "6  [1.2908536, 1.290855, 1.2908536, 1.2908536, 1....   \n",
       "\n",
       "                                                 lng  \\\n",
       "1       [103.85172, 103.85172, 103.85172, 103.85172]   \n",
       "3  [103.85165, 103.85165, 103.85165, 103.85165, 1...   \n",
       "4  [103.85164, 103.85165, 103.85164, 103.85164, 1...   \n",
       "5  [103.85171, 103.85165, 103.85169, 103.85171, 1...   \n",
       "6  [103.85172, 103.85172, 103.85172, 103.85172, 1...   \n",
       "\n",
       "                                           just_time  len_  \n",
       "1   ['01:14:41', '01:04:18', '01:14:32', '01:14:26']     2  \n",
       "3  ['23:16:57', '23:19:06', '23:15:49', '20:23:17...    10  \n",
       "4  ['00:07:27', '00:04:29', '00:08:02', '00:08:33...     3  \n",
       "5  ['17:46:33', '03:48:33', '17:46:10', '17:48:31...     8  \n",
       "6  ['20:20:03', '20:21:41', '20:19:47', '20:19:53...     2  "
      ]
     },
     "execution_count": 19,
     "metadata": {},
     "output_type": "execute_result"
    }
   ],
   "source": [
    "df.head(5)"
   ]
  }
 ],
 "metadata": {
  "kernelspec": {
   "display_name": "Python 3",
   "language": "python",
   "name": "python3"
  },
  "language_info": {
   "codemirror_mode": {
    "name": "ipython",
    "version": 3
   },
   "file_extension": ".py",
   "mimetype": "text/x-python",
   "name": "python",
   "nbconvert_exporter": "python",
   "pygments_lexer": "ipython3",
   "version": "3.7.2"
  }
 },
 "nbformat": 4,
 "nbformat_minor": 2
}
