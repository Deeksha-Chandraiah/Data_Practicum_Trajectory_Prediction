{
 "cells": [
  {
   "cell_type": "markdown",
   "metadata": {},
   "source": [
    "    Author: Eswar Lakshminarayanan"
   ]
  },
  {
   "cell_type": "code",
   "execution_count": null,
   "metadata": {},
   "outputs": [],
   "source": [
    "import pandas as pd\n",
    "import pickle\n",
    "import datetime\n",
    "import glob"
   ]
  },
  {
   "cell_type": "code",
   "execution_count": 1,
   "metadata": {},
   "outputs": [],
   "source": [
    "\n",
    "def fn(list2d):\n",
    "    flist=[]\n",
    "    for each_list in list2d:\n",
    "        temp =eval(each_list)\n",
    "        flist.extend(temp)\n",
    "    return flist"
   ]
  },
  {
   "cell_type": "code",
   "execution_count": 169,
   "metadata": {},
   "outputs": [
    {
     "name": "stdout",
     "output_type": "stream",
     "text": [
      "CPU times: user 4min 33s, sys: 34.1 s, total: 5min 7s\n",
      "Wall time: 5min 52s\n"
     ]
    }
   ],
   "source": [
    "%%time\n",
    "df = pd.read_csv(\"kiana_data.csv\",header=0)"
   ]
  },
  {
   "cell_type": "code",
   "execution_count": 14,
   "metadata": {},
   "outputs": [
    {
     "data": {
      "text/plain": [
       "Index(['Level', 'ClientMacAddr', 'lat', 'lng', 'localtime'], dtype='object')"
      ]
     },
     "execution_count": 14,
     "metadata": {},
     "output_type": "execute_result"
    }
   ],
   "source": [
    "df.columns"
   ]
  },
  {
   "cell_type": "code",
   "execution_count": 4,
   "metadata": {},
   "outputs": [
    {
     "data": {
      "text/plain": [
       "array(['Gallery'], dtype=object)"
      ]
     },
     "execution_count": 4,
     "metadata": {},
     "output_type": "execute_result"
    }
   ],
   "source": [
    "df.Building.unique()"
   ]
  },
  {
   "cell_type": "code",
   "execution_count": 170,
   "metadata": {},
   "outputs": [
    {
     "data": {
      "text/plain": [
       "Level             object\n",
       "ClientMacAddr      int64\n",
       "lat              float64\n",
       "lng              float64\n",
       "just_time         object\n",
       "just_date         object\n",
       "dtype: object"
      ]
     },
     "execution_count": 170,
     "metadata": {},
     "output_type": "execute_result"
    }
   ],
   "source": [
    "df.dtypes"
   ]
  },
  {
   "cell_type": "markdown",
   "metadata": {},
   "source": [
    "### `Building` column has only one unique value, drop it"
   ]
  },
  {
   "cell_type": "code",
   "execution_count": null,
   "metadata": {},
   "outputs": [],
   "source": [
    "df.drop(['Building'], axis=1,inplace=True)"
   ]
  },
  {
   "cell_type": "code",
   "execution_count": 10,
   "metadata": {},
   "outputs": [
    {
     "name": "stdout",
     "output_type": "stream",
     "text": [
      "CPU times: user 18min 34s, sys: 30.1 s, total: 19min 4s\n",
      "Wall time: 23min 17s\n"
     ]
    }
   ],
   "source": [
    "%%time\n",
    "df.to_csv(\"kiana_data.csv\",sep=\",\",index=False,header=True)"
   ]
  },
  {
   "cell_type": "code",
   "execution_count": 4,
   "metadata": {},
   "outputs": [
    {
     "name": "stdout",
     "output_type": "stream",
     "text": [
      "CPU times: user 6min 29s, sys: 38.1 s, total: 7min 7s\n",
      "Wall time: 7min 12s\n"
     ]
    }
   ],
   "source": [
    "%%time\n",
    "df = pd.read_csv(\"kiana_data.csv\",header=0)"
   ]
  },
  {
   "cell_type": "code",
   "execution_count": 172,
   "metadata": {},
   "outputs": [
    {
     "data": {
      "text/plain": [
       "9586251"
      ]
     },
     "execution_count": 172,
     "metadata": {},
     "output_type": "execute_result"
    }
   ],
   "source": [
    "df.ClientMacAddr.nunique()"
   ]
  },
  {
   "cell_type": "code",
   "execution_count": 173,
   "metadata": {},
   "outputs": [
    {
     "data": {
      "text/plain": [
       "3.6860449400398934"
      ]
     },
     "execution_count": 173,
     "metadata": {},
     "output_type": "execute_result"
    }
   ],
   "source": [
    "9586251/df.shape[0] *100"
   ]
  },
  {
   "cell_type": "code",
   "execution_count": 174,
   "metadata": {},
   "outputs": [
    {
     "data": {
      "text/plain": [
       "(260068750, 6)"
      ]
     },
     "execution_count": 174,
     "metadata": {},
     "output_type": "execute_result"
    }
   ],
   "source": [
    "df.shape"
   ]
  },
  {
   "cell_type": "code",
   "execution_count": 175,
   "metadata": {},
   "outputs": [
    {
     "data": {
      "text/html": [
       "<div>\n",
       "<style scoped>\n",
       "    .dataframe tbody tr th:only-of-type {\n",
       "        vertical-align: middle;\n",
       "    }\n",
       "\n",
       "    .dataframe tbody tr th {\n",
       "        vertical-align: top;\n",
       "    }\n",
       "\n",
       "    .dataframe thead th {\n",
       "        text-align: right;\n",
       "    }\n",
       "</style>\n",
       "<table border=\"1\" class=\"dataframe\">\n",
       "  <thead>\n",
       "    <tr style=\"text-align: right;\">\n",
       "      <th></th>\n",
       "      <th>Level</th>\n",
       "      <th>ClientMacAddr</th>\n",
       "      <th>lat</th>\n",
       "      <th>lng</th>\n",
       "      <th>just_time</th>\n",
       "      <th>just_date</th>\n",
       "    </tr>\n",
       "  </thead>\n",
       "  <tbody>\n",
       "    <tr>\n",
       "      <th>0</th>\n",
       "      <td>L5</td>\n",
       "      <td>0</td>\n",
       "      <td>1.290866</td>\n",
       "      <td>103.851724</td>\n",
       "      <td>18:20:29.538</td>\n",
       "      <td>2018-07-31</td>\n",
       "    </tr>\n",
       "    <tr>\n",
       "      <th>1</th>\n",
       "      <td>L5</td>\n",
       "      <td>1</td>\n",
       "      <td>1.290866</td>\n",
       "      <td>103.851724</td>\n",
       "      <td>13:42:08.382</td>\n",
       "      <td>2018-07-31</td>\n",
       "    </tr>\n",
       "    <tr>\n",
       "      <th>2</th>\n",
       "      <td>L5</td>\n",
       "      <td>1</td>\n",
       "      <td>1.290866</td>\n",
       "      <td>103.851724</td>\n",
       "      <td>14:58:17.652</td>\n",
       "      <td>2018-07-31</td>\n",
       "    </tr>\n",
       "    <tr>\n",
       "      <th>3</th>\n",
       "      <td>L5</td>\n",
       "      <td>3</td>\n",
       "      <td>1.290866</td>\n",
       "      <td>103.851724</td>\n",
       "      <td>17:44:47.816</td>\n",
       "      <td>2018-07-31</td>\n",
       "    </tr>\n",
       "    <tr>\n",
       "      <th>4</th>\n",
       "      <td>L5</td>\n",
       "      <td>4</td>\n",
       "      <td>1.290866</td>\n",
       "      <td>103.851724</td>\n",
       "      <td>13:26:17.971</td>\n",
       "      <td>2018-07-31</td>\n",
       "    </tr>\n",
       "  </tbody>\n",
       "</table>\n",
       "</div>"
      ],
      "text/plain": [
       "  Level  ClientMacAddr       lat         lng     just_time   just_date\n",
       "0    L5              0  1.290866  103.851724  18:20:29.538  2018-07-31\n",
       "1    L5              1  1.290866  103.851724  13:42:08.382  2018-07-31\n",
       "2    L5              1  1.290866  103.851724  14:58:17.652  2018-07-31\n",
       "3    L5              3  1.290866  103.851724  17:44:47.816  2018-07-31\n",
       "4    L5              4  1.290866  103.851724  13:26:17.971  2018-07-31"
      ]
     },
     "execution_count": 175,
     "metadata": {},
     "output_type": "execute_result"
    }
   ],
   "source": [
    "df.head(5)"
   ]
  },
  {
   "cell_type": "markdown",
   "metadata": {},
   "source": [
    "### reduce object size `Level5 -> L5`, `Level 1 -> L1`, `Level B1 -> LB1`"
   ]
  },
  {
   "cell_type": "code",
   "execution_count": 5,
   "metadata": {},
   "outputs": [],
   "source": [
    "df[\"Level\"].replace(to_replace=[\"Level5\"], value=\"L5\", inplace=True)\n",
    "df[\"Level\"].replace(to_replace=[\"Level 1\"], value=\"L1\", inplace=True)\n",
    "df[\"Level\"].replace(to_replace=[\"Level B1\"], value=\"LB1\", inplace=True)"
   ]
  },
  {
   "cell_type": "code",
   "execution_count": 6,
   "metadata": {},
   "outputs": [
    {
     "data": {
      "text/html": [
       "<div>\n",
       "<style scoped>\n",
       "    .dataframe tbody tr th:only-of-type {\n",
       "        vertical-align: middle;\n",
       "    }\n",
       "\n",
       "    .dataframe tbody tr th {\n",
       "        vertical-align: top;\n",
       "    }\n",
       "\n",
       "    .dataframe thead th {\n",
       "        text-align: right;\n",
       "    }\n",
       "</style>\n",
       "<table border=\"1\" class=\"dataframe\">\n",
       "  <thead>\n",
       "    <tr style=\"text-align: right;\">\n",
       "      <th></th>\n",
       "      <th>Level</th>\n",
       "      <th>ClientMacAddr</th>\n",
       "      <th>lat</th>\n",
       "      <th>lng</th>\n",
       "      <th>localtime</th>\n",
       "    </tr>\n",
       "  </thead>\n",
       "  <tbody>\n",
       "    <tr>\n",
       "      <th>0</th>\n",
       "      <td>L5</td>\n",
       "      <td>38:ff:36:4c:1a:18</td>\n",
       "      <td>1.290866</td>\n",
       "      <td>103.851724</td>\n",
       "      <td>2018-07-31 18:20:29.538 UTC</td>\n",
       "    </tr>\n",
       "    <tr>\n",
       "      <th>1</th>\n",
       "      <td>L5</td>\n",
       "      <td>38:ff:36:4c:ad:23</td>\n",
       "      <td>1.290866</td>\n",
       "      <td>103.851724</td>\n",
       "      <td>2018-07-31 13:42:08.382 UTC</td>\n",
       "    </tr>\n",
       "    <tr>\n",
       "      <th>2</th>\n",
       "      <td>L5</td>\n",
       "      <td>38:ff:36:4c:ad:23</td>\n",
       "      <td>1.290866</td>\n",
       "      <td>103.851724</td>\n",
       "      <td>2018-07-31 14:58:17.652 UTC</td>\n",
       "    </tr>\n",
       "    <tr>\n",
       "      <th>3</th>\n",
       "      <td>L5</td>\n",
       "      <td>38:ff:36:4c:ae:53</td>\n",
       "      <td>1.290866</td>\n",
       "      <td>103.851724</td>\n",
       "      <td>2018-07-31 17:44:47.816 UTC</td>\n",
       "    </tr>\n",
       "    <tr>\n",
       "      <th>4</th>\n",
       "      <td>L5</td>\n",
       "      <td>38:ff:36:4c:b5:83</td>\n",
       "      <td>1.290866</td>\n",
       "      <td>103.851724</td>\n",
       "      <td>2018-07-31 13:26:17.971 UTC</td>\n",
       "    </tr>\n",
       "  </tbody>\n",
       "</table>\n",
       "</div>"
      ],
      "text/plain": [
       "  Level      ClientMacAddr       lat         lng                    localtime\n",
       "0    L5  38:ff:36:4c:1a:18  1.290866  103.851724  2018-07-31 18:20:29.538 UTC\n",
       "1    L5  38:ff:36:4c:ad:23  1.290866  103.851724  2018-07-31 13:42:08.382 UTC\n",
       "2    L5  38:ff:36:4c:ad:23  1.290866  103.851724  2018-07-31 14:58:17.652 UTC\n",
       "3    L5  38:ff:36:4c:ae:53  1.290866  103.851724  2018-07-31 17:44:47.816 UTC\n",
       "4    L5  38:ff:36:4c:b5:83  1.290866  103.851724  2018-07-31 13:26:17.971 UTC"
      ]
     },
     "execution_count": 6,
     "metadata": {},
     "output_type": "execute_result"
    }
   ],
   "source": [
    "df.head(5)"
   ]
  },
  {
   "cell_type": "code",
   "execution_count": 7,
   "metadata": {},
   "outputs": [
    {
     "data": {
      "text/plain": [
       "array(['L5', 'L1', 'LB1'], dtype=object)"
      ]
     },
     "execution_count": 7,
     "metadata": {},
     "output_type": "execute_result"
    }
   ],
   "source": [
    "df.Level.unique()"
   ]
  },
  {
   "cell_type": "markdown",
   "metadata": {},
   "source": [
    "### replace mac_id's with integer"
   ]
  },
  {
   "cell_type": "code",
   "execution_count": 6,
   "metadata": {},
   "outputs": [
    {
     "data": {
      "text/plain": [
       "pandas.core.series.Series"
      ]
     },
     "execution_count": 6,
     "metadata": {},
     "output_type": "execute_result"
    }
   ],
   "source": [
    "ClientMacAddr = df[\"ClientMacAddr\"].str.strip()"
   ]
  },
  {
   "cell_type": "code",
   "execution_count": 7,
   "metadata": {},
   "outputs": [
    {
     "name": "stdout",
     "output_type": "stream",
     "text": [
      "CPU times: user 1min 48s, sys: 528 ms, total: 1min 49s\n",
      "Wall time: 1min 48s\n"
     ]
    }
   ],
   "source": [
    "\n",
    "ClientMacAddr.drop_duplicates(keep='first', inplace=True)"
   ]
  },
  {
   "cell_type": "markdown",
   "metadata": {},
   "source": [
    "#### Unique number of MAC_ID's"
   ]
  },
  {
   "cell_type": "code",
   "execution_count": 8,
   "metadata": {},
   "outputs": [
    {
     "data": {
      "text/plain": [
       "9586251"
      ]
     },
     "execution_count": 8,
     "metadata": {},
     "output_type": "execute_result"
    }
   ],
   "source": [
    "len(ClientMacAddr)"
   ]
  },
  {
   "cell_type": "markdown",
   "metadata": {},
   "source": [
    "#### checking if there is any NA value"
   ]
  },
  {
   "cell_type": "code",
   "execution_count": 9,
   "metadata": {},
   "outputs": [
    {
     "data": {
      "text/plain": [
       "0"
      ]
     },
     "execution_count": 9,
     "metadata": {},
     "output_type": "execute_result"
    }
   ],
   "source": [
    "ClientMacAddr.isna().sum()"
   ]
  },
  {
   "cell_type": "markdown",
   "metadata": {},
   "source": [
    "#### Using row number as integer replacement to MAC-ID's"
   ]
  },
  {
   "cell_type": "code",
   "execution_count": 13,
   "metadata": {},
   "outputs": [
    {
     "data": {
      "text/html": [
       "<div>\n",
       "<style scoped>\n",
       "    .dataframe tbody tr th:only-of-type {\n",
       "        vertical-align: middle;\n",
       "    }\n",
       "\n",
       "    .dataframe tbody tr th {\n",
       "        vertical-align: top;\n",
       "    }\n",
       "\n",
       "    .dataframe thead th {\n",
       "        text-align: right;\n",
       "    }\n",
       "</style>\n",
       "<table border=\"1\" class=\"dataframe\">\n",
       "  <thead>\n",
       "    <tr style=\"text-align: right;\">\n",
       "      <th></th>\n",
       "      <th>key</th>\n",
       "      <th>value</th>\n",
       "    </tr>\n",
       "  </thead>\n",
       "  <tbody>\n",
       "    <tr>\n",
       "      <th>0</th>\n",
       "      <td>0</td>\n",
       "      <td>38:ff:36:4c:1a:18</td>\n",
       "    </tr>\n",
       "    <tr>\n",
       "      <th>1</th>\n",
       "      <td>1</td>\n",
       "      <td>38:ff:36:4c:ad:23</td>\n",
       "    </tr>\n",
       "    <tr>\n",
       "      <th>2</th>\n",
       "      <td>3</td>\n",
       "      <td>38:ff:36:4c:ae:53</td>\n",
       "    </tr>\n",
       "    <tr>\n",
       "      <th>3</th>\n",
       "      <td>4</td>\n",
       "      <td>38:ff:36:4c:b5:83</td>\n",
       "    </tr>\n",
       "    <tr>\n",
       "      <th>4</th>\n",
       "      <td>6</td>\n",
       "      <td>38:ff:36:cc:1a:18</td>\n",
       "    </tr>\n",
       "  </tbody>\n",
       "</table>\n",
       "</div>"
      ],
      "text/plain": [
       "   key              value\n",
       "0    0  38:ff:36:4c:1a:18\n",
       "1    1  38:ff:36:4c:ad:23\n",
       "2    3  38:ff:36:4c:ae:53\n",
       "3    4  38:ff:36:4c:b5:83\n",
       "4    6  38:ff:36:cc:1a:18"
      ]
     },
     "execution_count": 13,
     "metadata": {},
     "output_type": "execute_result"
    }
   ],
   "source": [
    "ClientMacAddr = ClientMacAddr.to_frame()\n",
    "ClientMacAddr.reset_index(inplace=True)\n",
    "ClientMacAddr.columns\n",
    "ClientMacAddr.columns = [\"key\",\"value\"]\n",
    "ClientMacAddr.head(5)"
   ]
  },
  {
   "cell_type": "markdown",
   "metadata": {},
   "source": [
    "#### Saving MAC_ID -> Integer mapping as pickle files"
   ]
  },
  {
   "cell_type": "code",
   "execution_count": 15,
   "metadata": {},
   "outputs": [],
   "source": [
    "lookup = dict(zip(ClientMacAddr.key, ClientMacAddr.value))"
   ]
  },
  {
   "cell_type": "code",
   "execution_count": 27,
   "metadata": {},
   "outputs": [],
   "source": [
    "with open('lookup.pkl', 'wb') as f:\n",
    "    pickle.dump(lookup, f)"
   ]
  },
  {
   "cell_type": "code",
   "execution_count": 16,
   "metadata": {},
   "outputs": [],
   "source": [
    "rlookup = dict(zip(ClientMacAddr.value, ClientMacAddr.key))"
   ]
  },
  {
   "cell_type": "code",
   "execution_count": 29,
   "metadata": {},
   "outputs": [],
   "source": [
    "with open('rlookup.pkl', 'wb') as f:\n",
    "    pickle.dump(rlookup, f)"
   ]
  },
  {
   "cell_type": "code",
   "execution_count": 17,
   "metadata": {},
   "outputs": [
    {
     "data": {
      "text/html": [
       "<div>\n",
       "<style scoped>\n",
       "    .dataframe tbody tr th:only-of-type {\n",
       "        vertical-align: middle;\n",
       "    }\n",
       "\n",
       "    .dataframe tbody tr th {\n",
       "        vertical-align: top;\n",
       "    }\n",
       "\n",
       "    .dataframe thead th {\n",
       "        text-align: right;\n",
       "    }\n",
       "</style>\n",
       "<table border=\"1\" class=\"dataframe\">\n",
       "  <thead>\n",
       "    <tr style=\"text-align: right;\">\n",
       "      <th></th>\n",
       "      <th>Level</th>\n",
       "      <th>ClientMacAddr</th>\n",
       "      <th>lat</th>\n",
       "      <th>lng</th>\n",
       "      <th>localtime</th>\n",
       "    </tr>\n",
       "  </thead>\n",
       "  <tbody>\n",
       "    <tr>\n",
       "      <th>0</th>\n",
       "      <td>L5</td>\n",
       "      <td>38:ff:36:4c:1a:18</td>\n",
       "      <td>1.290866</td>\n",
       "      <td>103.851724</td>\n",
       "      <td>2018-07-31 18:20:29.538 UTC</td>\n",
       "    </tr>\n",
       "    <tr>\n",
       "      <th>1</th>\n",
       "      <td>L5</td>\n",
       "      <td>38:ff:36:4c:ad:23</td>\n",
       "      <td>1.290866</td>\n",
       "      <td>103.851724</td>\n",
       "      <td>2018-07-31 13:42:08.382 UTC</td>\n",
       "    </tr>\n",
       "    <tr>\n",
       "      <th>2</th>\n",
       "      <td>L5</td>\n",
       "      <td>38:ff:36:4c:ad:23</td>\n",
       "      <td>1.290866</td>\n",
       "      <td>103.851724</td>\n",
       "      <td>2018-07-31 14:58:17.652 UTC</td>\n",
       "    </tr>\n",
       "    <tr>\n",
       "      <th>3</th>\n",
       "      <td>L5</td>\n",
       "      <td>38:ff:36:4c:ae:53</td>\n",
       "      <td>1.290866</td>\n",
       "      <td>103.851724</td>\n",
       "      <td>2018-07-31 17:44:47.816 UTC</td>\n",
       "    </tr>\n",
       "    <tr>\n",
       "      <th>4</th>\n",
       "      <td>L5</td>\n",
       "      <td>38:ff:36:4c:b5:83</td>\n",
       "      <td>1.290866</td>\n",
       "      <td>103.851724</td>\n",
       "      <td>2018-07-31 13:26:17.971 UTC</td>\n",
       "    </tr>\n",
       "  </tbody>\n",
       "</table>\n",
       "</div>"
      ],
      "text/plain": [
       "  Level      ClientMacAddr       lat         lng                    localtime\n",
       "0    L5  38:ff:36:4c:1a:18  1.290866  103.851724  2018-07-31 18:20:29.538 UTC\n",
       "1    L5  38:ff:36:4c:ad:23  1.290866  103.851724  2018-07-31 13:42:08.382 UTC\n",
       "2    L5  38:ff:36:4c:ad:23  1.290866  103.851724  2018-07-31 14:58:17.652 UTC\n",
       "3    L5  38:ff:36:4c:ae:53  1.290866  103.851724  2018-07-31 17:44:47.816 UTC\n",
       "4    L5  38:ff:36:4c:b5:83  1.290866  103.851724  2018-07-31 13:26:17.971 UTC"
      ]
     },
     "execution_count": 17,
     "metadata": {},
     "output_type": "execute_result"
    }
   ],
   "source": [
    "df.head(5)"
   ]
  },
  {
   "cell_type": "code",
   "execution_count": 18,
   "metadata": {},
   "outputs": [],
   "source": [
    "df[\"ClientMacAddr\"] = df[\"ClientMacAddr\"].str.strip()"
   ]
  },
  {
   "cell_type": "markdown",
   "metadata": {},
   "source": [
    "#### Replacing MAC_ID's with integers in the original dataframe"
   ]
  },
  {
   "cell_type": "code",
   "execution_count": 23,
   "metadata": {},
   "outputs": [],
   "source": [
    "df[\"ClientMacAddr\"] = df[\"ClientMacAddr\"].map(rlookup)"
   ]
  },
  {
   "cell_type": "code",
   "execution_count": 24,
   "metadata": {},
   "outputs": [
    {
     "data": {
      "text/html": [
       "<div>\n",
       "<style scoped>\n",
       "    .dataframe tbody tr th:only-of-type {\n",
       "        vertical-align: middle;\n",
       "    }\n",
       "\n",
       "    .dataframe tbody tr th {\n",
       "        vertical-align: top;\n",
       "    }\n",
       "\n",
       "    .dataframe thead th {\n",
       "        text-align: right;\n",
       "    }\n",
       "</style>\n",
       "<table border=\"1\" class=\"dataframe\">\n",
       "  <thead>\n",
       "    <tr style=\"text-align: right;\">\n",
       "      <th></th>\n",
       "      <th>Level</th>\n",
       "      <th>ClientMacAddr</th>\n",
       "      <th>lat</th>\n",
       "      <th>lng</th>\n",
       "      <th>localtime</th>\n",
       "    </tr>\n",
       "  </thead>\n",
       "  <tbody>\n",
       "    <tr>\n",
       "      <th>0</th>\n",
       "      <td>L5</td>\n",
       "      <td>0</td>\n",
       "      <td>1.290866</td>\n",
       "      <td>103.851724</td>\n",
       "      <td>2018-07-31 18:20:29.538 UTC</td>\n",
       "    </tr>\n",
       "    <tr>\n",
       "      <th>1</th>\n",
       "      <td>L5</td>\n",
       "      <td>1</td>\n",
       "      <td>1.290866</td>\n",
       "      <td>103.851724</td>\n",
       "      <td>2018-07-31 13:42:08.382 UTC</td>\n",
       "    </tr>\n",
       "    <tr>\n",
       "      <th>2</th>\n",
       "      <td>L5</td>\n",
       "      <td>1</td>\n",
       "      <td>1.290866</td>\n",
       "      <td>103.851724</td>\n",
       "      <td>2018-07-31 14:58:17.652 UTC</td>\n",
       "    </tr>\n",
       "    <tr>\n",
       "      <th>3</th>\n",
       "      <td>L5</td>\n",
       "      <td>3</td>\n",
       "      <td>1.290866</td>\n",
       "      <td>103.851724</td>\n",
       "      <td>2018-07-31 17:44:47.816 UTC</td>\n",
       "    </tr>\n",
       "    <tr>\n",
       "      <th>4</th>\n",
       "      <td>L5</td>\n",
       "      <td>4</td>\n",
       "      <td>1.290866</td>\n",
       "      <td>103.851724</td>\n",
       "      <td>2018-07-31 13:26:17.971 UTC</td>\n",
       "    </tr>\n",
       "  </tbody>\n",
       "</table>\n",
       "</div>"
      ],
      "text/plain": [
       "  Level  ClientMacAddr       lat         lng                    localtime\n",
       "0    L5              0  1.290866  103.851724  2018-07-31 18:20:29.538 UTC\n",
       "1    L5              1  1.290866  103.851724  2018-07-31 13:42:08.382 UTC\n",
       "2    L5              1  1.290866  103.851724  2018-07-31 14:58:17.652 UTC\n",
       "3    L5              3  1.290866  103.851724  2018-07-31 17:44:47.816 UTC\n",
       "4    L5              4  1.290866  103.851724  2018-07-31 13:26:17.971 UTC"
      ]
     },
     "execution_count": 24,
     "metadata": {},
     "output_type": "execute_result"
    }
   ],
   "source": [
    "df.head(5)"
   ]
  },
  {
   "cell_type": "code",
   "execution_count": 25,
   "metadata": {},
   "outputs": [
    {
     "name": "stdout",
     "output_type": "stream",
     "text": [
      "CPU times: user 20min 10s, sys: 10.9 s, total: 20min 21s\n",
      "Wall time: 20min 21s\n"
     ]
    }
   ],
   "source": [
    "%%time\n",
    "df.to_csv(\"kiana_data.csv\",sep=\",\",index=False,header=True)"
   ]
  },
  {
   "cell_type": "markdown",
   "metadata": {},
   "source": [
    "### Reduction in pandas read time 23min 17s to 5min 36s"
   ]
  },
  {
   "cell_type": "code",
   "execution_count": 2,
   "metadata": {},
   "outputs": [
    {
     "name": "stdout",
     "output_type": "stream",
     "text": [
      "CPU times: user 4min 47s, sys: 37.6 s, total: 5min 25s\n",
      "Wall time: 5min 36s\n"
     ]
    }
   ],
   "source": [
    "%%time\n",
    "df = pd.read_csv(\"kiana_data.csv\",header=0)"
   ]
  },
  {
   "cell_type": "code",
   "execution_count": 5,
   "metadata": {},
   "outputs": [
    {
     "data": {
      "text/html": [
       "<div>\n",
       "<style scoped>\n",
       "    .dataframe tbody tr th:only-of-type {\n",
       "        vertical-align: middle;\n",
       "    }\n",
       "\n",
       "    .dataframe tbody tr th {\n",
       "        vertical-align: top;\n",
       "    }\n",
       "\n",
       "    .dataframe thead th {\n",
       "        text-align: right;\n",
       "    }\n",
       "</style>\n",
       "<table border=\"1\" class=\"dataframe\">\n",
       "  <thead>\n",
       "    <tr style=\"text-align: right;\">\n",
       "      <th></th>\n",
       "      <th>Level</th>\n",
       "      <th>ClientMacAddr</th>\n",
       "      <th>lat</th>\n",
       "      <th>lng</th>\n",
       "      <th>localtime</th>\n",
       "    </tr>\n",
       "  </thead>\n",
       "  <tbody>\n",
       "    <tr>\n",
       "      <th>0</th>\n",
       "      <td>L5</td>\n",
       "      <td>0</td>\n",
       "      <td>1.290866</td>\n",
       "      <td>103.851724</td>\n",
       "      <td>2018-07-31 18:20:29.538 UTC</td>\n",
       "    </tr>\n",
       "    <tr>\n",
       "      <th>1</th>\n",
       "      <td>L5</td>\n",
       "      <td>1</td>\n",
       "      <td>1.290866</td>\n",
       "      <td>103.851724</td>\n",
       "      <td>2018-07-31 13:42:08.382 UTC</td>\n",
       "    </tr>\n",
       "    <tr>\n",
       "      <th>2</th>\n",
       "      <td>L5</td>\n",
       "      <td>1</td>\n",
       "      <td>1.290866</td>\n",
       "      <td>103.851724</td>\n",
       "      <td>2018-07-31 14:58:17.652 UTC</td>\n",
       "    </tr>\n",
       "    <tr>\n",
       "      <th>3</th>\n",
       "      <td>L5</td>\n",
       "      <td>3</td>\n",
       "      <td>1.290866</td>\n",
       "      <td>103.851724</td>\n",
       "      <td>2018-07-31 17:44:47.816 UTC</td>\n",
       "    </tr>\n",
       "    <tr>\n",
       "      <th>4</th>\n",
       "      <td>L5</td>\n",
       "      <td>4</td>\n",
       "      <td>1.290866</td>\n",
       "      <td>103.851724</td>\n",
       "      <td>2018-07-31 13:26:17.971 UTC</td>\n",
       "    </tr>\n",
       "  </tbody>\n",
       "</table>\n",
       "</div>"
      ],
      "text/plain": [
       "  Level  ClientMacAddr       lat         lng                    localtime\n",
       "0    L5              0  1.290866  103.851724  2018-07-31 18:20:29.538 UTC\n",
       "1    L5              1  1.290866  103.851724  2018-07-31 13:42:08.382 UTC\n",
       "2    L5              1  1.290866  103.851724  2018-07-31 14:58:17.652 UTC\n",
       "3    L5              3  1.290866  103.851724  2018-07-31 17:44:47.816 UTC\n",
       "4    L5              4  1.290866  103.851724  2018-07-31 13:26:17.971 UTC"
      ]
     },
     "execution_count": 5,
     "metadata": {},
     "output_type": "execute_result"
    }
   ],
   "source": [
    "df.head(5)"
   ]
  },
  {
   "cell_type": "markdown",
   "metadata": {},
   "source": [
    "### Flatten data - > change data from long to wide format to create sequence of lat,lon points for each (mac_id,date)"
   ]
  },
  {
   "cell_type": "code",
   "execution_count": null,
   "metadata": {},
   "outputs": [],
   "source": [
    "%%time\n",
    "import pandas as pd\n",
    "chunk_df = pd.read_csv(\"kiana_data.csv\",header=0, chunksize=1000)"
   ]
  },
  {
   "cell_type": "markdown",
   "metadata": {},
   "source": [
    "### adding to new columns to the dataframe\n",
    "    \n",
    "      just_date and just_time"
   ]
  },
  {
   "cell_type": "code",
   "execution_count": 184,
   "metadata": {},
   "outputs": [
    {
     "data": {
      "text/plain": [
       "'/home/opc'"
      ]
     },
     "execution_count": 184,
     "metadata": {},
     "output_type": "execute_result"
    }
   ],
   "source": [
    "%%time\n",
    "just_date= []\n",
    "just_time= []\n",
    "counter = 0\n",
    "for d in chunk_df:\n",
    "    temp_df = pd.DataFrame(columns = ['just_date','just_time',\"ignore\"])\n",
    "    counter+=1\n",
    "    print(\"Chunk #\",counter)\n",
    "    temp_df[['just_date','just_time',\"ignore\"]]= df['localtime'].str.split(expand=True)\n",
    "    just_date.extend(temp_df.just_date.values)\n",
    "    just_time.extend(temp_df.just_time.values)\n",
    "    print(len(just_time),len(just_date))\n",
    "    print(\"split(\" \"):\") \n",
    "temp_df = pd.DataFrame(columns = ['just_date','just_time',\"ignore\"])"
   ]
  },
  {
   "cell_type": "code",
   "execution_count": null,
   "metadata": {},
   "outputs": [],
   "source": [
    "df[\"just_time\"] = just_time\n",
    "df[\"just_date\"] = just_date"
   ]
  },
  {
   "cell_type": "code",
   "execution_count": 12,
   "metadata": {},
   "outputs": [],
   "source": [
    "new_dir = \"/home/opc/extra_space/pre_processing/\""
   ]
  },
  {
   "cell_type": "markdown",
   "metadata": {},
   "source": [
    "#### forming trajectories by converting from long to wide format"
   ]
  },
  {
   "cell_type": "code",
   "execution_count": null,
   "metadata": {},
   "outputs": [],
   "source": [
    "%%time\n",
    "list_ = []\n",
    "for d in chunk_df:\n",
    "    temp_d = d.groupby([\"ClientMacAddr\",\"just_date\"],as_index=False)[\"Level\",\"lat\",\"lng\",\"just_time\"].agg(lambda x: list(x))\n",
    "    file_name = \"new\" + str(counter)+\".csv\"\n",
    "    temp_d.to_csv(new_dir+file_name, index=False, header=True)"
   ]
  },
  {
   "cell_type": "code",
   "execution_count": null,
   "metadata": {},
   "outputs": [],
   "source": []
  },
  {
   "cell_type": "markdown",
   "metadata": {},
   "source": [
    "### Merge data in multiple files into single file\n",
    "\n",
    "    - As we know Groupby operation is computation expensive given that we have 9586251 unique mac_id's\n",
    "\n",
    "    - To tackle this, we split the reduced size data file into multiple chunks, and performed groupby by taking five files at a time\n",
    "    \n",
    "    - This process has to be repeated multiple times until we reduce the number of files to 1"
   ]
  },
  {
   "cell_type": "code",
   "execution_count": 60,
   "metadata": {},
   "outputs": [
    {
     "name": "stdout",
     "output_type": "stream",
     "text": [
      "2019-04-01 08:45:13.446262\n",
      "# remaining 12\n",
      "diif 18745098\n",
      "# remaining 7\n",
      "diif 37436911\n",
      "# remaining 2\n",
      "diif 56172306\n",
      "CPU times: user 3h 18min 44s, sys: 1min 45s, total: 3h 20min 30s\n",
      "Wall time: 3h 22min 7s\n"
     ]
    }
   ],
   "source": [
    "%%time\n",
    "import datetime\n",
    "print(datetime.datetime.now())\n",
    "\n",
    "new_dir = \"/home/opc/extra_space/pre_processing9/\"\n",
    "file_list = list(range(0,17))\n",
    "new_row_counter = 0\n",
    "old_row_counter = 0\n",
    "counter = 0\n",
    "while len(file_list)>=5:\n",
    "    counter+=1\n",
    "   \n",
    "    df1 = pd.read_csv(all_files[file_list.pop()])\n",
    "    df2 = pd.read_csv(all_files[file_list.pop()])\n",
    "    df3 = pd.read_csv(all_files[file_list.pop()])\n",
    "    df4 = pd.read_csv(all_files[file_list.pop()])\n",
    "    df5 = pd.read_csv(all_files[file_list.pop()])\n",
    "   \n",
    "    d = pd.concat([df1,df2,df3,df4,df5],axis=0,ignore_index=False)\n",
    "    \n",
    "    df1, df2, df3, df4, df5 = None, None, None, None, None\n",
    "    \n",
    "    old_row_counter += d.shape[0]\n",
    "    temp_d = d.groupby([\"ClientMacAddr\",\"just_date\"],as_index=False)[\"Level\",\"lat\",\"lng\",\"just_time\"].agg(lambda x: fn(list(x)))\n",
    "    new_row_counter+=temp_d.shape[0]\n",
    "    file_name = \"new\" + str(counter)+\".csv\"\n",
    "    temp_d.to_csv(new_dir+file_name, index=False, header=True)\n",
    "    \n",
    "    print(\"# remaining\",len(file_list))\n",
    "    print(\"diif\",old_row_counter - new_row_counter)"
   ]
  },
  {
   "cell_type": "code",
   "execution_count": null,
   "metadata": {},
   "outputs": [],
   "source": []
  }
 ],
 "metadata": {
  "kernelspec": {
   "display_name": "Python 3",
   "language": "python",
   "name": "python3"
  },
  "language_info": {
   "codemirror_mode": {
    "name": "ipython",
    "version": 3
   },
   "file_extension": ".py",
   "mimetype": "text/x-python",
   "name": "python",
   "nbconvert_exporter": "python",
   "pygments_lexer": "ipython3",
   "version": "3.7.3"
  }
 },
 "nbformat": 4,
 "nbformat_minor": 2
}
