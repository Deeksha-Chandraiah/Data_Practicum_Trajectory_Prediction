{
 "cells": [
  {
   "cell_type": "code",
   "execution_count": 1,
   "metadata": {},
   "outputs": [],
   "source": [
    "import pandas as pd\n",
    "import pickle\n",
    "from datetime import datetime\n",
    "import geopy.distance\n",
    "import matplotlib.pyplot as plt"
   ]
  },
  {
   "cell_type": "code",
   "execution_count": 2,
   "metadata": {},
   "outputs": [
    {
     "data": {
      "text/plain": [
       "['/home/opc/extra_space/pre_processing13/new1.csv']"
      ]
     },
     "execution_count": 2,
     "metadata": {},
     "output_type": "execute_result"
    }
   ],
   "source": [
    "import glob\n",
    "all_files = glob.glob(\"/home/opc/extra_space/pre_processing13/*csv\")\n",
    "all_files"
   ]
  },
  {
   "cell_type": "code",
   "execution_count": 3,
   "metadata": {},
   "outputs": [
    {
     "data": {
      "text/html": [
       "<div>\n",
       "<style scoped>\n",
       "    .dataframe tbody tr th:only-of-type {\n",
       "        vertical-align: middle;\n",
       "    }\n",
       "\n",
       "    .dataframe tbody tr th {\n",
       "        vertical-align: top;\n",
       "    }\n",
       "\n",
       "    .dataframe thead th {\n",
       "        text-align: right;\n",
       "    }\n",
       "</style>\n",
       "<table border=\"1\" class=\"dataframe\">\n",
       "  <thead>\n",
       "    <tr style=\"text-align: right;\">\n",
       "      <th></th>\n",
       "      <th>ClientMacAddr</th>\n",
       "      <th>just_date</th>\n",
       "      <th>Level</th>\n",
       "      <th>lat</th>\n",
       "      <th>lng</th>\n",
       "      <th>just_time</th>\n",
       "      <th>len_</th>\n",
       "    </tr>\n",
       "  </thead>\n",
       "  <tbody>\n",
       "    <tr>\n",
       "      <th>0</th>\n",
       "      <td>0</td>\n",
       "      <td>2018-04-01</td>\n",
       "      <td>['L5', 'L5', 'L5', 'L5', 'L5', 'L5', 'L5', 'L5...</td>\n",
       "      <td>[1.2906748, 1.2906748, 1.2906748, 1.2906748, 1...</td>\n",
       "      <td>[103.851654, 103.851654, 103.851654, 103.85165...</td>\n",
       "      <td>['14:03:43', '14:03:33', '14:03:33', '14:03:43...</td>\n",
       "      <td>1</td>\n",
       "    </tr>\n",
       "    <tr>\n",
       "      <th>1</th>\n",
       "      <td>0</td>\n",
       "      <td>2018-04-02</td>\n",
       "      <td>['L5', 'L5', 'L5', 'L5', 'L5', 'L5', 'L5']</td>\n",
       "      <td>[1.2908567, 1.290855, 1.290855, 1.290855, 1.29...</td>\n",
       "      <td>[103.85172, 103.85172, 103.85172, 103.85172, 1...</td>\n",
       "      <td>['01:04:18', '01:14:26', '01:14:41', '01:14:26...</td>\n",
       "      <td>2</td>\n",
       "    </tr>\n",
       "    <tr>\n",
       "      <th>2</th>\n",
       "      <td>0</td>\n",
       "      <td>2018-04-05</td>\n",
       "      <td>['L5', 'L5', 'L5', 'L5', 'L5', 'L5', 'L5', 'L5...</td>\n",
       "      <td>[1.2906915, 1.2906826, 1.2906915, 1.2906771, 1...</td>\n",
       "      <td>[103.85165, 103.85165, 103.85165, 103.85165, 1...</td>\n",
       "      <td>['23:06:40', '23:16:30', '23:03:32', '12:25:20...</td>\n",
       "      <td>10</td>\n",
       "    </tr>\n",
       "    <tr>\n",
       "      <th>3</th>\n",
       "      <td>0</td>\n",
       "      <td>2018-04-06</td>\n",
       "      <td>['L5', 'L5', 'L5', 'L5', 'L5', 'L5', 'L5', 'L5...</td>\n",
       "      <td>[1.290692, 1.2906915, 1.2906915, 1.2906915, 1....</td>\n",
       "      <td>[103.85164, 103.85165, 103.85165, 103.85165, 1...</td>\n",
       "      <td>['00:08:38', '00:05:15', '00:04:29', '00:06:16...</td>\n",
       "      <td>2</td>\n",
       "    </tr>\n",
       "    <tr>\n",
       "      <th>4</th>\n",
       "      <td>0</td>\n",
       "      <td>2018-04-07</td>\n",
       "      <td>['L5', 'L5', 'L5', 'L5', 'L5', 'L5', 'L5', 'L5...</td>\n",
       "      <td>[1.2906741000000002, 1.2906741000000002, 1.290...</td>\n",
       "      <td>[103.851654, 103.851654, 103.85165, 103.85165,...</td>\n",
       "      <td>['03:44:20', '03:43:40', '03:50:44', '03:48:47...</td>\n",
       "      <td>6</td>\n",
       "    </tr>\n",
       "  </tbody>\n",
       "</table>\n",
       "</div>"
      ],
      "text/plain": [
       "   ClientMacAddr   just_date  \\\n",
       "0              0  2018-04-01   \n",
       "1              0  2018-04-02   \n",
       "2              0  2018-04-05   \n",
       "3              0  2018-04-06   \n",
       "4              0  2018-04-07   \n",
       "\n",
       "                                               Level  \\\n",
       "0  ['L5', 'L5', 'L5', 'L5', 'L5', 'L5', 'L5', 'L5...   \n",
       "1         ['L5', 'L5', 'L5', 'L5', 'L5', 'L5', 'L5']   \n",
       "2  ['L5', 'L5', 'L5', 'L5', 'L5', 'L5', 'L5', 'L5...   \n",
       "3  ['L5', 'L5', 'L5', 'L5', 'L5', 'L5', 'L5', 'L5...   \n",
       "4  ['L5', 'L5', 'L5', 'L5', 'L5', 'L5', 'L5', 'L5...   \n",
       "\n",
       "                                                 lat  \\\n",
       "0  [1.2906748, 1.2906748, 1.2906748, 1.2906748, 1...   \n",
       "1  [1.2908567, 1.290855, 1.290855, 1.290855, 1.29...   \n",
       "2  [1.2906915, 1.2906826, 1.2906915, 1.2906771, 1...   \n",
       "3  [1.290692, 1.2906915, 1.2906915, 1.2906915, 1....   \n",
       "4  [1.2906741000000002, 1.2906741000000002, 1.290...   \n",
       "\n",
       "                                                 lng  \\\n",
       "0  [103.851654, 103.851654, 103.851654, 103.85165...   \n",
       "1  [103.85172, 103.85172, 103.85172, 103.85172, 1...   \n",
       "2  [103.85165, 103.85165, 103.85165, 103.85165, 1...   \n",
       "3  [103.85164, 103.85165, 103.85165, 103.85165, 1...   \n",
       "4  [103.851654, 103.851654, 103.85165, 103.85165,...   \n",
       "\n",
       "                                           just_time  len_  \n",
       "0  ['14:03:43', '14:03:33', '14:03:33', '14:03:43...     1  \n",
       "1  ['01:04:18', '01:14:26', '01:14:41', '01:14:26...     2  \n",
       "2  ['23:06:40', '23:16:30', '23:03:32', '12:25:20...    10  \n",
       "3  ['00:08:38', '00:05:15', '00:04:29', '00:06:16...     2  \n",
       "4  ['03:44:20', '03:43:40', '03:50:44', '03:48:47...     6  "
      ]
     },
     "execution_count": 3,
     "metadata": {},
     "output_type": "execute_result"
    }
   ],
   "source": [
    "frame = pd.read_csv(all_files[0],header=0)\n",
    "frame.head()"
   ]
  },
  {
   "cell_type": "code",
   "execution_count": 4,
   "metadata": {},
   "outputs": [],
   "source": [
    "from datetime import datetime\n",
    "def validate(date_text):\n",
    "    try:\n",
    "        temp = datetime.strptime(date_text, \"%H:%M:%S.%f\")\n",
    "    except ValueError:\n",
    "        temp = datetime.strptime(date_text, \"%H:%M:%S\")\n",
    "    return temp"
   ]
  },
  {
   "cell_type": "code",
   "execution_count": 5,
   "metadata": {},
   "outputs": [],
   "source": [
    "counter = 0\n",
    "counter2 = 0\n",
    "def fn_sort(row):\n",
    "    global counter\n",
    "    global counter2\n",
    "    counter+=1\n",
    "    if counter%1000==0:\n",
    "        counter2+=1\n",
    "        print(counter2)\n",
    "    final_list =[]\n",
    "    for level,lat,lng, justime in zip(eval(row[\"Level\"]), eval(row['lat']), eval(row['lng']),eval( row['just_time'])):\n",
    "        final_list.append((level,lat,lng, justime))\n",
    "        \n",
    "    if len(final_list)>1:\n",
    "        final_list.sort(key=lambda tup: tup[-1]) \n",
    "    return final_list"
   ]
  },
  {
   "cell_type": "code",
   "execution_count": 7,
   "metadata": {},
   "outputs": [],
   "source": [
    "frame = frame.loc[frame.len_>1]"
   ]
  },
  {
   "cell_type": "code",
   "execution_count": null,
   "metadata": {},
   "outputs": [],
   "source": [
    "%%time\n",
    "temp = frame[['Level', 'lat', 'lng', 'just_time']].apply(lambda x: fn_sort(x),axis=1)"
   ]
  },
  {
   "cell_type": "markdown",
   "metadata": {},
   "source": [
    "### extract time only"
   ]
  },
  {
   "cell_type": "code",
   "execution_count": 10,
   "metadata": {},
   "outputs": [],
   "source": [
    "temp_list = []\n",
    "for each in temp:\n",
    "    temp_list.append([each_recording[-1] for each_recording in each])\n",
    "        "
   ]
  },
  {
   "cell_type": "code",
   "execution_count": 12,
   "metadata": {},
   "outputs": [],
   "source": [
    "def validate(date_text):\n",
    "    try:\n",
    "        temp = datetime.strptime(date_text, \"%H:%M:%S.%f\")\n",
    "    except ValueError:\n",
    "        temp = datetime.strptime(date_text, \"%H:%M:%S\")\n",
    "    return temp\n",
    "def calculate_diff(time1,time2):\n",
    "    return (time1 - time2).total_seconds()"
   ]
  },
  {
   "cell_type": "code",
   "execution_count": null,
   "metadata": {},
   "outputs": [],
   "source": [
    "time_list = []\n",
    "for each in temp_list:\n",
    "    if len(each)>=3:\n",
    "        time_list.append(each)"
   ]
  },
  {
   "cell_type": "code",
   "execution_count": null,
   "metadata": {},
   "outputs": [],
   "source": [
    "counter =0\n",
    "list_ =[]\n",
    "for each in time_list:\n",
    "    temp = pd.DataFrame(each)\n",
    "    temp.columns = [\"time1\"]\n",
    "    temp[\"time2\"] = temp[\"time1\"].shift()\n",
    "    temp = temp.loc[1:]\n",
    "    temp[\"interval\"] = temp.apply(lambda row: calculate_diff(validate(row[\"time2\"]),validate(row[\"time1\"])) , axis=1)\n",
    "    list_.append(temp[\"interval\"].mean())\n",
    "    "
   ]
  },
  {
   "cell_type": "code",
   "execution_count": null,
   "metadata": {},
   "outputs": [],
   "source": [
    "df2 = pd.DataFrame(list_)\n",
    "df2 = df2.abs()"
   ]
  },
  {
   "cell_type": "code",
   "execution_count": null,
   "metadata": {},
   "outputs": [],
   "source": [
    "df2.columns =[\"sec\"]\n",
    "df2 = df2.loc[df2.sec<=1000]"
   ]
  },
  {
   "cell_type": "markdown",
   "metadata": {},
   "source": [
    "### Time interval in latitude, longitude"
   ]
  },
  {
   "cell_type": "code",
   "execution_count": 63,
   "metadata": {},
   "outputs": [
    {
     "data": {
      "image/png": "[encoded data removed]",
      "text/plain": [
       "<Figure size 1080x360 with 1 Axes>"
      ]
     },
     "metadata": {
      "needs_background": "light"
     },
     "output_type": "display_data"
    }
   ],
   "source": [
    "df2.hist(bins=33,figsize=(15,5))\n",
    "plt.xlabel(\"time interval in seconds\")\n",
    "plt.ylabel(\"Frequency\")\n",
    "plt.title(\"avg time interval\")\n",
    "plt.xticks(list(range(0,1000,30)),rotation=60)\n",
    "plt.show()"
   ]
  },
  {
   "cell_type": "code",
   "execution_count": null,
   "metadata": {},
   "outputs": [],
   "source": []
  }
 ],
 "metadata": {
  "kernelspec": {
   "display_name": "Python 3",
   "language": "python",
   "name": "python3"
  },
  "language_info": {
   "codemirror_mode": {
    "name": "ipython",
    "version": 3
   },
   "file_extension": ".py",
   "mimetype": "text/x-python",
   "name": "python",
   "nbconvert_exporter": "python",
   "pygments_lexer": "ipython3",
   "version": "3.7.3"
  }
 },
 "nbformat": 4,
 "nbformat_minor": 2
}
