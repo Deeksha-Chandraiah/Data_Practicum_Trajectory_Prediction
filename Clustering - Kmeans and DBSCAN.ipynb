{
 "cells": [
  {
   "cell_type": "markdown",
   "metadata": {},
   "source": [
    "**Author : Isha Patil**"
   ]
  },
  {
   "cell_type": "markdown",
   "metadata": {},
   "source": [
    "In this notebook I have implemented and compared 2 clustering algorithms- i) K-Means ii) DBSCAN <br>\n",
    "to find our locations of interest (hotspots)\n",
    "\n",
    "~ The algorithms are run on 10,000 data points <br>\n",
    "    -Reason: The current processing and computing power would not scale for the entire dataset <br>\n",
    "  \n",
    "~ **Silhouette Score** is the factor used for comparing the performance of the 2 algorithms <br>\n",
    "    -Reason: _Silhouette score is the ratio of intra-cluster distance vs inter-cluster distance_ <br>\n",
    "       This score will effectively help me understand how clearly and concisely the datapoints are clustered, which\n",
    "       is a critical part of my implementation. <br>\n",
    "      \n",
    "Based on the silhouette score, the better algorithm is picked for further implementation on the entire dataset"
   ]
  },
  {
   "cell_type": "code",
   "execution_count": 6,
   "metadata": {},
   "outputs": [],
   "source": [
    "from pandas import DataFrame, read_csv\n",
    "import matplotlib.pyplot as plt\n",
    "import pandas as pd\n",
    "import numpy as np\n",
    "from scipy.cluster.vq import kmeans,vq\n",
    "from scipy.spatial.distance import cdist\n",
    "import datetime\n",
    "from sklearn.cluster import DBSCAN\n",
    "from sklearn.preprocessing import StandardScaler as scalar\n",
    " \n",
    "file = '../pre_processing11/levelB1_coordinates_only.csv'\n",
    "df = pd.read_csv(file, nrows=10000)"
   ]
  },
  {
   "cell_type": "code",
   "execution_count": 7,
   "metadata": {},
   "outputs": [
    {
     "data": {
      "text/plain": [
       "lat    float64\n",
       "lng    float64\n",
       "dtype: object"
      ]
     },
     "execution_count": 7,
     "metadata": {},
     "output_type": "execute_result"
    }
   ],
   "source": [
    "#Checking the data types of latitude and longitude columns\n",
    "df.dtypes"
   ]
  },
  {
   "cell_type": "code",
   "execution_count": 3,
   "metadata": {},
   "outputs": [
    {
     "data": {
      "text/plain": [
       "['Level', 'ClientMacAddr', 'lat', 'lng', 'just_time', 'just_date']"
      ]
     },
     "execution_count": 3,
     "metadata": {},
     "output_type": "execute_result"
    }
   ],
   "source": [
    "list(df)"
   ]
  },
  {
   "cell_type": "code",
   "execution_count": 4,
   "metadata": {},
   "outputs": [
    {
     "data": {
      "text/plain": [
       "3090"
      ]
     },
     "execution_count": 4,
     "metadata": {},
     "output_type": "execute_result"
    }
   ],
   "source": [
    "# finding total number of unique spots\n",
    "df.groupby(['lat', 'lng']).ngroups"
   ]
  },
  {
   "cell_type": "code",
   "execution_count": 5,
   "metadata": {},
   "outputs": [
    {
     "data": {
      "text/plain": [
       "3090"
      ]
     },
     "execution_count": 5,
     "metadata": {},
     "output_type": "execute_result"
    }
   ],
   "source": [
    "# verifying the above\n",
    "len(set(zip(df['lat'],df['lng'])))"
   ]
  },
  {
   "cell_type": "code",
   "execution_count": 6,
   "metadata": {},
   "outputs": [
    {
     "data": {
      "text/plain": [
       "lat       lng       \n",
       "1.290275  103.851630       5\n",
       "1.290284  103.851622       1\n",
       "1.290286  103.851630       1\n",
       "1.290293  103.851624       1\n",
       "1.290303  103.851634       1\n",
       "1.290432  103.851640       1\n",
       "1.290465  103.851481       1\n",
       "1.290467  103.851480       1\n",
       "1.290468  103.851478       1\n",
       "1.290469  103.851478       1\n",
       "1.290471  103.851476       1\n",
       "1.290473  103.851475       1\n",
       "          103.851474     195\n",
       "          103.851474       1\n",
       "          103.851475       1\n",
       "          103.851474       1\n",
       "1.290474  103.851474       1\n",
       "          103.851475       1\n",
       "          103.851475       1\n",
       "          103.851475       1\n",
       "          103.851475       2\n",
       "          103.851475       1\n",
       "          103.851475       1\n",
       "          103.851475       1\n",
       "1.290475  103.851475       1\n",
       "          103.851475       1\n",
       "          103.851475       1\n",
       "          103.851475       1\n",
       "          103.851475       1\n",
       "          103.851476       2\n",
       "                        ... \n",
       "1.290866  103.851724       1\n",
       "          103.851724      17\n",
       "          103.851724       4\n",
       "          103.851724       5\n",
       "          103.851724       1\n",
       "          103.851724      10\n",
       "          103.851724       2\n",
       "          103.851724       5\n",
       "          103.851724       1\n",
       "          103.851724       1\n",
       "          103.851724       4\n",
       "          103.851724      12\n",
       "          103.851724       2\n",
       "          103.851724       1\n",
       "          103.851724      14\n",
       "          103.851724       7\n",
       "          103.851724       2\n",
       "          103.851724       1\n",
       "          103.851724      11\n",
       "          103.851724       2\n",
       "          103.851724       1\n",
       "          103.851724       2\n",
       "          103.851724       1\n",
       "          103.851724       3\n",
       "          103.851724       1\n",
       "          103.851724       1\n",
       "          103.851724       2\n",
       "          103.851724       2\n",
       "          103.851724       1\n",
       "          103.851724    3799\n",
       "Length: 3090, dtype: int64"
      ]
     },
     "execution_count": 6,
     "metadata": {},
     "output_type": "execute_result"
    }
   ],
   "source": [
    "# lat long unique pairs with frequency count \n",
    "df_unique=df.groupby(['lat', 'lng']).size()\n",
    "df_unique"
   ]
  },
  {
   "cell_type": "code",
   "execution_count": 7,
   "metadata": {},
   "outputs": [
    {
     "data": {
      "text/plain": [
       "dtype('int64')"
      ]
     },
     "execution_count": 7,
     "metadata": {},
     "output_type": "execute_result"
    }
   ],
   "source": [
    "df_unique.dtypes"
   ]
  },
  {
   "cell_type": "code",
   "execution_count": 8,
   "metadata": {},
   "outputs": [
    {
     "data": {
      "text/plain": [
       "lat       lng       \n",
       "1.290275  103.851630    5\n",
       "1.290284  103.851622    1\n",
       "1.290286  103.851630    1\n",
       "1.290293  103.851624    1\n",
       "1.290303  103.851634    1\n",
       "dtype: int64"
      ]
     },
     "execution_count": 8,
     "metadata": {},
     "output_type": "execute_result"
    }
   ],
   "source": [
    "df_unique.head()"
   ]
  },
  {
   "cell_type": "code",
   "execution_count": 9,
   "metadata": {},
   "outputs": [
    {
     "data": {
      "text/plain": [
       "pandas.core.series.Series"
      ]
     },
     "execution_count": 9,
     "metadata": {},
     "output_type": "execute_result"
    }
   ],
   "source": [
    "type(df_unique)"
   ]
  },
  {
   "cell_type": "code",
   "execution_count": 10,
   "metadata": {},
   "outputs": [
    {
     "data": {
      "text/plain": [
       "Level             object\n",
       "ClientMacAddr      int64\n",
       "lat              float64\n",
       "lng              float64\n",
       "just_time         object\n",
       "just_date         object\n",
       "dtype: object"
      ]
     },
     "execution_count": 10,
     "metadata": {},
     "output_type": "execute_result"
    }
   ],
   "source": [
    "df.dtypes"
   ]
  },
  {
   "cell_type": "code",
   "execution_count": 18,
   "metadata": {},
   "outputs": [],
   "source": [
    "#Converting the data type of just_date to datetime64\n",
    "df['just_date'] = pd.to_datetime(df['just_date'])"
   ]
  },
  {
   "cell_type": "code",
   "execution_count": 20,
   "metadata": {},
   "outputs": [],
   "source": [
    "#Converting dates to days of the week\n",
    "df['days'] = df['just_date'].dt.dayofweek"
   ]
  },
  {
   "cell_type": "code",
   "execution_count": 21,
   "metadata": {},
   "outputs": [
    {
     "data": {
      "text/plain": [
       "days\n",
       "0     844\n",
       "1    2370\n",
       "2    1230\n",
       "3    1129\n",
       "4    1496\n",
       "5     481\n",
       "6    2450\n",
       "dtype: int64"
      ]
     },
     "execution_count": 21,
     "metadata": {},
     "output_type": "execute_result"
    }
   ],
   "source": [
    "#Counting the number of observations for every day of the week\n",
    "df.groupby(df['days']).size()"
   ]
  },
  {
   "cell_type": "code",
   "execution_count": 23,
   "metadata": {},
   "outputs": [],
   "source": [
    "#Making separate day wise dataframes to check variations iin clusters based on days of the week.\n",
    "df_Mon=df.loc[df['days']==0]\n",
    "df_Tue=df.loc[df['days']==1]"
   ]
  },
  {
   "cell_type": "code",
   "execution_count": 24,
   "metadata": {},
   "outputs": [
    {
     "data": {
      "text/html": [
       "<div>\n",
       "<style scoped>\n",
       "    .dataframe tbody tr th:only-of-type {\n",
       "        vertical-align: middle;\n",
       "    }\n",
       "\n",
       "    .dataframe tbody tr th {\n",
       "        vertical-align: top;\n",
       "    }\n",
       "\n",
       "    .dataframe thead th {\n",
       "        text-align: right;\n",
       "    }\n",
       "</style>\n",
       "<table border=\"1\" class=\"dataframe\">\n",
       "  <thead>\n",
       "    <tr style=\"text-align: right;\">\n",
       "      <th></th>\n",
       "      <th>Level</th>\n",
       "      <th>ClientMacAddr</th>\n",
       "      <th>lat</th>\n",
       "      <th>lng</th>\n",
       "      <th>just_time</th>\n",
       "      <th>just_date</th>\n",
       "      <th>days</th>\n",
       "    </tr>\n",
       "  </thead>\n",
       "  <tbody>\n",
       "    <tr>\n",
       "      <th>1955</th>\n",
       "      <td>L5</td>\n",
       "      <td>428</td>\n",
       "      <td>1.290693</td>\n",
       "      <td>103.851555</td>\n",
       "      <td>11:44:15.483</td>\n",
       "      <td>2018-07-09</td>\n",
       "      <td>0</td>\n",
       "    </tr>\n",
       "    <tr>\n",
       "      <th>1956</th>\n",
       "      <td>L5</td>\n",
       "      <td>1029</td>\n",
       "      <td>1.290780</td>\n",
       "      <td>103.851603</td>\n",
       "      <td>21:58:29.76</td>\n",
       "      <td>2018-07-30</td>\n",
       "      <td>0</td>\n",
       "    </tr>\n",
       "    <tr>\n",
       "      <th>1957</th>\n",
       "      <td>L5</td>\n",
       "      <td>1029</td>\n",
       "      <td>1.290780</td>\n",
       "      <td>103.851603</td>\n",
       "      <td>22:04:19.689</td>\n",
       "      <td>2018-07-30</td>\n",
       "      <td>0</td>\n",
       "    </tr>\n",
       "    <tr>\n",
       "      <th>1958</th>\n",
       "      <td>L5</td>\n",
       "      <td>19</td>\n",
       "      <td>1.290866</td>\n",
       "      <td>103.851724</td>\n",
       "      <td>17:59:17.874</td>\n",
       "      <td>2018-07-30</td>\n",
       "      <td>0</td>\n",
       "    </tr>\n",
       "    <tr>\n",
       "      <th>1959</th>\n",
       "      <td>L5</td>\n",
       "      <td>19</td>\n",
       "      <td>1.290866</td>\n",
       "      <td>103.851724</td>\n",
       "      <td>18:13:05.291</td>\n",
       "      <td>2018-07-30</td>\n",
       "      <td>0</td>\n",
       "    </tr>\n",
       "    <tr>\n",
       "      <th>1960</th>\n",
       "      <td>L5</td>\n",
       "      <td>19</td>\n",
       "      <td>1.290866</td>\n",
       "      <td>103.851724</td>\n",
       "      <td>18:08:05.642</td>\n",
       "      <td>2018-07-30</td>\n",
       "      <td>0</td>\n",
       "    </tr>\n",
       "    <tr>\n",
       "      <th>1961</th>\n",
       "      <td>L5</td>\n",
       "      <td>19</td>\n",
       "      <td>1.290866</td>\n",
       "      <td>103.851724</td>\n",
       "      <td>17:43:17.586</td>\n",
       "      <td>2018-07-30</td>\n",
       "      <td>0</td>\n",
       "    </tr>\n",
       "    <tr>\n",
       "      <th>1962</th>\n",
       "      <td>L5</td>\n",
       "      <td>19</td>\n",
       "      <td>1.290866</td>\n",
       "      <td>103.851724</td>\n",
       "      <td>19:30:06.085</td>\n",
       "      <td>2018-07-30</td>\n",
       "      <td>0</td>\n",
       "    </tr>\n",
       "    <tr>\n",
       "      <th>1963</th>\n",
       "      <td>L5</td>\n",
       "      <td>19</td>\n",
       "      <td>1.290866</td>\n",
       "      <td>103.851724</td>\n",
       "      <td>19:06:55.894</td>\n",
       "      <td>2018-07-30</td>\n",
       "      <td>0</td>\n",
       "    </tr>\n",
       "    <tr>\n",
       "      <th>1964</th>\n",
       "      <td>L5</td>\n",
       "      <td>19</td>\n",
       "      <td>1.290866</td>\n",
       "      <td>103.851724</td>\n",
       "      <td>23:09:17.053</td>\n",
       "      <td>2018-07-30</td>\n",
       "      <td>0</td>\n",
       "    </tr>\n",
       "    <tr>\n",
       "      <th>1965</th>\n",
       "      <td>L5</td>\n",
       "      <td>19</td>\n",
       "      <td>1.290866</td>\n",
       "      <td>103.851724</td>\n",
       "      <td>23:01:56.724</td>\n",
       "      <td>2018-07-30</td>\n",
       "      <td>0</td>\n",
       "    </tr>\n",
       "    <tr>\n",
       "      <th>1966</th>\n",
       "      <td>L5</td>\n",
       "      <td>19</td>\n",
       "      <td>1.290866</td>\n",
       "      <td>103.851724</td>\n",
       "      <td>23:05:19.03</td>\n",
       "      <td>2018-07-30</td>\n",
       "      <td>0</td>\n",
       "    </tr>\n",
       "    <tr>\n",
       "      <th>1967</th>\n",
       "      <td>L5</td>\n",
       "      <td>19</td>\n",
       "      <td>1.290866</td>\n",
       "      <td>103.851724</td>\n",
       "      <td>22:57:58.709</td>\n",
       "      <td>2018-07-30</td>\n",
       "      <td>0</td>\n",
       "    </tr>\n",
       "    <tr>\n",
       "      <th>1968</th>\n",
       "      <td>L5</td>\n",
       "      <td>19</td>\n",
       "      <td>1.290866</td>\n",
       "      <td>103.851724</td>\n",
       "      <td>23:22:16.111</td>\n",
       "      <td>2018-07-30</td>\n",
       "      <td>0</td>\n",
       "    </tr>\n",
       "    <tr>\n",
       "      <th>1969</th>\n",
       "      <td>L5</td>\n",
       "      <td>19</td>\n",
       "      <td>1.290866</td>\n",
       "      <td>103.851724</td>\n",
       "      <td>23:45:08.118</td>\n",
       "      <td>2018-07-30</td>\n",
       "      <td>0</td>\n",
       "    </tr>\n",
       "    <tr>\n",
       "      <th>1970</th>\n",
       "      <td>L5</td>\n",
       "      <td>19</td>\n",
       "      <td>1.290866</td>\n",
       "      <td>103.851724</td>\n",
       "      <td>23:28:25.488</td>\n",
       "      <td>2018-07-30</td>\n",
       "      <td>0</td>\n",
       "    </tr>\n",
       "    <tr>\n",
       "      <th>1971</th>\n",
       "      <td>L5</td>\n",
       "      <td>1971</td>\n",
       "      <td>1.290473</td>\n",
       "      <td>103.851474</td>\n",
       "      <td>21:48:07.043</td>\n",
       "      <td>2018-07-30</td>\n",
       "      <td>0</td>\n",
       "    </tr>\n",
       "    <tr>\n",
       "      <th>1972</th>\n",
       "      <td>L5</td>\n",
       "      <td>1972</td>\n",
       "      <td>1.290473</td>\n",
       "      <td>103.851474</td>\n",
       "      <td>17:28:35.386</td>\n",
       "      <td>2018-07-30</td>\n",
       "      <td>0</td>\n",
       "    </tr>\n",
       "    <tr>\n",
       "      <th>1973</th>\n",
       "      <td>L5</td>\n",
       "      <td>690</td>\n",
       "      <td>1.290661</td>\n",
       "      <td>103.851573</td>\n",
       "      <td>21:27:27.638</td>\n",
       "      <td>2018-07-30</td>\n",
       "      <td>0</td>\n",
       "    </tr>\n",
       "    <tr>\n",
       "      <th>1974</th>\n",
       "      <td>L5</td>\n",
       "      <td>690</td>\n",
       "      <td>1.290704</td>\n",
       "      <td>103.851625</td>\n",
       "      <td>21:25:56.77</td>\n",
       "      <td>2018-07-30</td>\n",
       "      <td>0</td>\n",
       "    </tr>\n",
       "    <tr>\n",
       "      <th>1975</th>\n",
       "      <td>L5</td>\n",
       "      <td>690</td>\n",
       "      <td>1.290569</td>\n",
       "      <td>103.851519</td>\n",
       "      <td>17:31:29.724</td>\n",
       "      <td>2018-07-30</td>\n",
       "      <td>0</td>\n",
       "    </tr>\n",
       "    <tr>\n",
       "      <th>1976</th>\n",
       "      <td>L5</td>\n",
       "      <td>690</td>\n",
       "      <td>1.290643</td>\n",
       "      <td>103.851535</td>\n",
       "      <td>22:04:39.062</td>\n",
       "      <td>2018-07-30</td>\n",
       "      <td>0</td>\n",
       "    </tr>\n",
       "    <tr>\n",
       "      <th>1977</th>\n",
       "      <td>L5</td>\n",
       "      <td>690</td>\n",
       "      <td>1.290700</td>\n",
       "      <td>103.851559</td>\n",
       "      <td>22:54:46.556</td>\n",
       "      <td>2018-07-30</td>\n",
       "      <td>0</td>\n",
       "    </tr>\n",
       "    <tr>\n",
       "      <th>1978</th>\n",
       "      <td>L5</td>\n",
       "      <td>8</td>\n",
       "      <td>1.290866</td>\n",
       "      <td>103.851724</td>\n",
       "      <td>11:58:16.042</td>\n",
       "      <td>2018-07-30</td>\n",
       "      <td>0</td>\n",
       "    </tr>\n",
       "    <tr>\n",
       "      <th>1979</th>\n",
       "      <td>L5</td>\n",
       "      <td>8</td>\n",
       "      <td>1.290866</td>\n",
       "      <td>103.851724</td>\n",
       "      <td>11:58:05.908</td>\n",
       "      <td>2018-07-30</td>\n",
       "      <td>0</td>\n",
       "    </tr>\n",
       "    <tr>\n",
       "      <th>1980</th>\n",
       "      <td>L5</td>\n",
       "      <td>8</td>\n",
       "      <td>1.290866</td>\n",
       "      <td>103.851724</td>\n",
       "      <td>12:14:56.73</td>\n",
       "      <td>2018-07-30</td>\n",
       "      <td>0</td>\n",
       "    </tr>\n",
       "    <tr>\n",
       "      <th>1981</th>\n",
       "      <td>L5</td>\n",
       "      <td>8</td>\n",
       "      <td>1.290866</td>\n",
       "      <td>103.851724</td>\n",
       "      <td>15:08:05.641</td>\n",
       "      <td>2018-07-30</td>\n",
       "      <td>0</td>\n",
       "    </tr>\n",
       "    <tr>\n",
       "      <th>1982</th>\n",
       "      <td>L5</td>\n",
       "      <td>8</td>\n",
       "      <td>1.290866</td>\n",
       "      <td>103.851724</td>\n",
       "      <td>15:10:47.683</td>\n",
       "      <td>2018-07-30</td>\n",
       "      <td>0</td>\n",
       "    </tr>\n",
       "    <tr>\n",
       "      <th>1983</th>\n",
       "      <td>L5</td>\n",
       "      <td>8</td>\n",
       "      <td>1.290866</td>\n",
       "      <td>103.851724</td>\n",
       "      <td>16:25:48.639</td>\n",
       "      <td>2018-07-30</td>\n",
       "      <td>0</td>\n",
       "    </tr>\n",
       "    <tr>\n",
       "      <th>1984</th>\n",
       "      <td>L5</td>\n",
       "      <td>8</td>\n",
       "      <td>1.290866</td>\n",
       "      <td>103.851724</td>\n",
       "      <td>16:27:29.957</td>\n",
       "      <td>2018-07-30</td>\n",
       "      <td>0</td>\n",
       "    </tr>\n",
       "    <tr>\n",
       "      <th>...</th>\n",
       "      <td>...</td>\n",
       "      <td>...</td>\n",
       "      <td>...</td>\n",
       "      <td>...</td>\n",
       "      <td>...</td>\n",
       "      <td>...</td>\n",
       "      <td>...</td>\n",
       "    </tr>\n",
       "    <tr>\n",
       "      <th>9149</th>\n",
       "      <td>L5</td>\n",
       "      <td>1742</td>\n",
       "      <td>1.290697</td>\n",
       "      <td>103.851557</td>\n",
       "      <td>14:47:49.025</td>\n",
       "      <td>2018-07-30</td>\n",
       "      <td>0</td>\n",
       "    </tr>\n",
       "    <tr>\n",
       "      <th>9150</th>\n",
       "      <td>L5</td>\n",
       "      <td>1742</td>\n",
       "      <td>1.290686</td>\n",
       "      <td>103.851551</td>\n",
       "      <td>15:06:06.218</td>\n",
       "      <td>2018-07-30</td>\n",
       "      <td>0</td>\n",
       "    </tr>\n",
       "    <tr>\n",
       "      <th>9151</th>\n",
       "      <td>L5</td>\n",
       "      <td>1742</td>\n",
       "      <td>1.290686</td>\n",
       "      <td>103.851551</td>\n",
       "      <td>15:06:56.928</td>\n",
       "      <td>2018-07-30</td>\n",
       "      <td>0</td>\n",
       "    </tr>\n",
       "    <tr>\n",
       "      <th>9152</th>\n",
       "      <td>L5</td>\n",
       "      <td>1742</td>\n",
       "      <td>1.290686</td>\n",
       "      <td>103.851551</td>\n",
       "      <td>16:57:19.55</td>\n",
       "      <td>2018-07-30</td>\n",
       "      <td>0</td>\n",
       "    </tr>\n",
       "    <tr>\n",
       "      <th>9153</th>\n",
       "      <td>L5</td>\n",
       "      <td>1742</td>\n",
       "      <td>1.290686</td>\n",
       "      <td>103.851551</td>\n",
       "      <td>17:18:27.437</td>\n",
       "      <td>2018-07-30</td>\n",
       "      <td>0</td>\n",
       "    </tr>\n",
       "    <tr>\n",
       "      <th>9154</th>\n",
       "      <td>L5</td>\n",
       "      <td>1742</td>\n",
       "      <td>1.290686</td>\n",
       "      <td>103.851551</td>\n",
       "      <td>16:51:26.129</td>\n",
       "      <td>2018-07-30</td>\n",
       "      <td>0</td>\n",
       "    </tr>\n",
       "    <tr>\n",
       "      <th>9155</th>\n",
       "      <td>L5</td>\n",
       "      <td>1742</td>\n",
       "      <td>1.290686</td>\n",
       "      <td>103.851551</td>\n",
       "      <td>17:17:36.909</td>\n",
       "      <td>2018-07-30</td>\n",
       "      <td>0</td>\n",
       "    </tr>\n",
       "    <tr>\n",
       "      <th>9156</th>\n",
       "      <td>L5</td>\n",
       "      <td>1742</td>\n",
       "      <td>1.290686</td>\n",
       "      <td>103.851551</td>\n",
       "      <td>17:14:29.995</td>\n",
       "      <td>2018-07-30</td>\n",
       "      <td>0</td>\n",
       "    </tr>\n",
       "    <tr>\n",
       "      <th>9157</th>\n",
       "      <td>L5</td>\n",
       "      <td>1742</td>\n",
       "      <td>1.290686</td>\n",
       "      <td>103.851551</td>\n",
       "      <td>17:05:29.148</td>\n",
       "      <td>2018-07-30</td>\n",
       "      <td>0</td>\n",
       "    </tr>\n",
       "    <tr>\n",
       "      <th>9158</th>\n",
       "      <td>L5</td>\n",
       "      <td>1742</td>\n",
       "      <td>1.290692</td>\n",
       "      <td>103.851554</td>\n",
       "      <td>16:25:18.731</td>\n",
       "      <td>2018-07-30</td>\n",
       "      <td>0</td>\n",
       "    </tr>\n",
       "    <tr>\n",
       "      <th>9159</th>\n",
       "      <td>L5</td>\n",
       "      <td>1742</td>\n",
       "      <td>1.290697</td>\n",
       "      <td>103.851558</td>\n",
       "      <td>16:38:07.489</td>\n",
       "      <td>2018-07-30</td>\n",
       "      <td>0</td>\n",
       "    </tr>\n",
       "    <tr>\n",
       "      <th>9160</th>\n",
       "      <td>L5</td>\n",
       "      <td>1742</td>\n",
       "      <td>1.290693</td>\n",
       "      <td>103.851555</td>\n",
       "      <td>15:25:48.634</td>\n",
       "      <td>2018-07-30</td>\n",
       "      <td>0</td>\n",
       "    </tr>\n",
       "    <tr>\n",
       "      <th>9161</th>\n",
       "      <td>L5</td>\n",
       "      <td>1742</td>\n",
       "      <td>1.290691</td>\n",
       "      <td>103.851553</td>\n",
       "      <td>15:17:58.829</td>\n",
       "      <td>2018-07-30</td>\n",
       "      <td>0</td>\n",
       "    </tr>\n",
       "    <tr>\n",
       "      <th>9351</th>\n",
       "      <td>L5</td>\n",
       "      <td>957</td>\n",
       "      <td>1.290668</td>\n",
       "      <td>103.851544</td>\n",
       "      <td>17:28:45.019</td>\n",
       "      <td>2018-07-23</td>\n",
       "      <td>0</td>\n",
       "    </tr>\n",
       "    <tr>\n",
       "      <th>9511</th>\n",
       "      <td>L5</td>\n",
       "      <td>8963</td>\n",
       "      <td>1.290866</td>\n",
       "      <td>103.851724</td>\n",
       "      <td>12:52:36.573</td>\n",
       "      <td>2018-07-23</td>\n",
       "      <td>0</td>\n",
       "    </tr>\n",
       "    <tr>\n",
       "      <th>9512</th>\n",
       "      <td>L5</td>\n",
       "      <td>8963</td>\n",
       "      <td>1.290866</td>\n",
       "      <td>103.851724</td>\n",
       "      <td>13:39:19.966</td>\n",
       "      <td>2018-07-23</td>\n",
       "      <td>0</td>\n",
       "    </tr>\n",
       "    <tr>\n",
       "      <th>9631</th>\n",
       "      <td>L5</td>\n",
       "      <td>9631</td>\n",
       "      <td>1.290860</td>\n",
       "      <td>103.851717</td>\n",
       "      <td>16:05:16.523</td>\n",
       "      <td>2018-07-23</td>\n",
       "      <td>0</td>\n",
       "    </tr>\n",
       "    <tr>\n",
       "      <th>9632</th>\n",
       "      <td>L5</td>\n",
       "      <td>957</td>\n",
       "      <td>1.290668</td>\n",
       "      <td>103.851544</td>\n",
       "      <td>17:20:49.035</td>\n",
       "      <td>2018-07-23</td>\n",
       "      <td>0</td>\n",
       "    </tr>\n",
       "    <tr>\n",
       "      <th>9633</th>\n",
       "      <td>L5</td>\n",
       "      <td>957</td>\n",
       "      <td>1.290643</td>\n",
       "      <td>103.851557</td>\n",
       "      <td>17:16:05.564</td>\n",
       "      <td>2018-07-23</td>\n",
       "      <td>0</td>\n",
       "    </tr>\n",
       "    <tr>\n",
       "      <th>9634</th>\n",
       "      <td>L5</td>\n",
       "      <td>2396</td>\n",
       "      <td>1.290678</td>\n",
       "      <td>103.851548</td>\n",
       "      <td>13:45:35.045</td>\n",
       "      <td>2018-07-23</td>\n",
       "      <td>0</td>\n",
       "    </tr>\n",
       "    <tr>\n",
       "      <th>9635</th>\n",
       "      <td>L5</td>\n",
       "      <td>8962</td>\n",
       "      <td>1.290843</td>\n",
       "      <td>103.851701</td>\n",
       "      <td>15:53:26.82</td>\n",
       "      <td>2018-07-23</td>\n",
       "      <td>0</td>\n",
       "    </tr>\n",
       "    <tr>\n",
       "      <th>9762</th>\n",
       "      <td>L5</td>\n",
       "      <td>9631</td>\n",
       "      <td>1.290862</td>\n",
       "      <td>103.851719</td>\n",
       "      <td>16:08:19.691</td>\n",
       "      <td>2018-07-23</td>\n",
       "      <td>0</td>\n",
       "    </tr>\n",
       "    <tr>\n",
       "      <th>9870</th>\n",
       "      <td>L5</td>\n",
       "      <td>53</td>\n",
       "      <td>1.290866</td>\n",
       "      <td>103.851724</td>\n",
       "      <td>01:52:49.881</td>\n",
       "      <td>2018-07-16</td>\n",
       "      <td>0</td>\n",
       "    </tr>\n",
       "    <tr>\n",
       "      <th>9871</th>\n",
       "      <td>L5</td>\n",
       "      <td>53</td>\n",
       "      <td>1.290866</td>\n",
       "      <td>103.851724</td>\n",
       "      <td>03:03:37.51</td>\n",
       "      <td>2018-07-16</td>\n",
       "      <td>0</td>\n",
       "    </tr>\n",
       "    <tr>\n",
       "      <th>9872</th>\n",
       "      <td>L5</td>\n",
       "      <td>366</td>\n",
       "      <td>1.290866</td>\n",
       "      <td>103.851724</td>\n",
       "      <td>11:55:25.062</td>\n",
       "      <td>2018-07-16</td>\n",
       "      <td>0</td>\n",
       "    </tr>\n",
       "    <tr>\n",
       "      <th>9873</th>\n",
       "      <td>L5</td>\n",
       "      <td>366</td>\n",
       "      <td>1.290866</td>\n",
       "      <td>103.851724</td>\n",
       "      <td>11:48:27.873</td>\n",
       "      <td>2018-07-16</td>\n",
       "      <td>0</td>\n",
       "    </tr>\n",
       "    <tr>\n",
       "      <th>9874</th>\n",
       "      <td>L5</td>\n",
       "      <td>1143</td>\n",
       "      <td>1.290866</td>\n",
       "      <td>103.851724</td>\n",
       "      <td>06:20:16.905</td>\n",
       "      <td>2018-07-16</td>\n",
       "      <td>0</td>\n",
       "    </tr>\n",
       "    <tr>\n",
       "      <th>9875</th>\n",
       "      <td>L5</td>\n",
       "      <td>141</td>\n",
       "      <td>1.290866</td>\n",
       "      <td>103.851724</td>\n",
       "      <td>10:20:06.201</td>\n",
       "      <td>2018-07-16</td>\n",
       "      <td>0</td>\n",
       "    </tr>\n",
       "    <tr>\n",
       "      <th>9876</th>\n",
       "      <td>L5</td>\n",
       "      <td>141</td>\n",
       "      <td>1.290866</td>\n",
       "      <td>103.851724</td>\n",
       "      <td>12:06:09.307</td>\n",
       "      <td>2018-07-16</td>\n",
       "      <td>0</td>\n",
       "    </tr>\n",
       "    <tr>\n",
       "      <th>9958</th>\n",
       "      <td>L5</td>\n",
       "      <td>9078</td>\n",
       "      <td>1.290866</td>\n",
       "      <td>103.851724</td>\n",
       "      <td>13:18:55.594</td>\n",
       "      <td>2018-07-23</td>\n",
       "      <td>0</td>\n",
       "    </tr>\n",
       "  </tbody>\n",
       "</table>\n",
       "<p>844 rows × 7 columns</p>\n",
       "</div>"
      ],
      "text/plain": [
       "     Level  ClientMacAddr       lat         lng     just_time  just_date  days\n",
       "1955    L5            428  1.290693  103.851555  11:44:15.483 2018-07-09     0\n",
       "1956    L5           1029  1.290780  103.851603   21:58:29.76 2018-07-30     0\n",
       "1957    L5           1029  1.290780  103.851603  22:04:19.689 2018-07-30     0\n",
       "1958    L5             19  1.290866  103.851724  17:59:17.874 2018-07-30     0\n",
       "1959    L5             19  1.290866  103.851724  18:13:05.291 2018-07-30     0\n",
       "1960    L5             19  1.290866  103.851724  18:08:05.642 2018-07-30     0\n",
       "1961    L5             19  1.290866  103.851724  17:43:17.586 2018-07-30     0\n",
       "1962    L5             19  1.290866  103.851724  19:30:06.085 2018-07-30     0\n",
       "1963    L5             19  1.290866  103.851724  19:06:55.894 2018-07-30     0\n",
       "1964    L5             19  1.290866  103.851724  23:09:17.053 2018-07-30     0\n",
       "1965    L5             19  1.290866  103.851724  23:01:56.724 2018-07-30     0\n",
       "1966    L5             19  1.290866  103.851724   23:05:19.03 2018-07-30     0\n",
       "1967    L5             19  1.290866  103.851724  22:57:58.709 2018-07-30     0\n",
       "1968    L5             19  1.290866  103.851724  23:22:16.111 2018-07-30     0\n",
       "1969    L5             19  1.290866  103.851724  23:45:08.118 2018-07-30     0\n",
       "1970    L5             19  1.290866  103.851724  23:28:25.488 2018-07-30     0\n",
       "1971    L5           1971  1.290473  103.851474  21:48:07.043 2018-07-30     0\n",
       "1972    L5           1972  1.290473  103.851474  17:28:35.386 2018-07-30     0\n",
       "1973    L5            690  1.290661  103.851573  21:27:27.638 2018-07-30     0\n",
       "1974    L5            690  1.290704  103.851625   21:25:56.77 2018-07-30     0\n",
       "1975    L5            690  1.290569  103.851519  17:31:29.724 2018-07-30     0\n",
       "1976    L5            690  1.290643  103.851535  22:04:39.062 2018-07-30     0\n",
       "1977    L5            690  1.290700  103.851559  22:54:46.556 2018-07-30     0\n",
       "1978    L5              8  1.290866  103.851724  11:58:16.042 2018-07-30     0\n",
       "1979    L5              8  1.290866  103.851724  11:58:05.908 2018-07-30     0\n",
       "1980    L5              8  1.290866  103.851724   12:14:56.73 2018-07-30     0\n",
       "1981    L5              8  1.290866  103.851724  15:08:05.641 2018-07-30     0\n",
       "1982    L5              8  1.290866  103.851724  15:10:47.683 2018-07-30     0\n",
       "1983    L5              8  1.290866  103.851724  16:25:48.639 2018-07-30     0\n",
       "1984    L5              8  1.290866  103.851724  16:27:29.957 2018-07-30     0\n",
       "...    ...            ...       ...         ...           ...        ...   ...\n",
       "9149    L5           1742  1.290697  103.851557  14:47:49.025 2018-07-30     0\n",
       "9150    L5           1742  1.290686  103.851551  15:06:06.218 2018-07-30     0\n",
       "9151    L5           1742  1.290686  103.851551  15:06:56.928 2018-07-30     0\n",
       "9152    L5           1742  1.290686  103.851551   16:57:19.55 2018-07-30     0\n",
       "9153    L5           1742  1.290686  103.851551  17:18:27.437 2018-07-30     0\n",
       "9154    L5           1742  1.290686  103.851551  16:51:26.129 2018-07-30     0\n",
       "9155    L5           1742  1.290686  103.851551  17:17:36.909 2018-07-30     0\n",
       "9156    L5           1742  1.290686  103.851551  17:14:29.995 2018-07-30     0\n",
       "9157    L5           1742  1.290686  103.851551  17:05:29.148 2018-07-30     0\n",
       "9158    L5           1742  1.290692  103.851554  16:25:18.731 2018-07-30     0\n",
       "9159    L5           1742  1.290697  103.851558  16:38:07.489 2018-07-30     0\n",
       "9160    L5           1742  1.290693  103.851555  15:25:48.634 2018-07-30     0\n",
       "9161    L5           1742  1.290691  103.851553  15:17:58.829 2018-07-30     0\n",
       "9351    L5            957  1.290668  103.851544  17:28:45.019 2018-07-23     0\n",
       "9511    L5           8963  1.290866  103.851724  12:52:36.573 2018-07-23     0\n",
       "9512    L5           8963  1.290866  103.851724  13:39:19.966 2018-07-23     0\n",
       "9631    L5           9631  1.290860  103.851717  16:05:16.523 2018-07-23     0\n",
       "9632    L5            957  1.290668  103.851544  17:20:49.035 2018-07-23     0\n",
       "9633    L5            957  1.290643  103.851557  17:16:05.564 2018-07-23     0\n",
       "9634    L5           2396  1.290678  103.851548  13:45:35.045 2018-07-23     0\n",
       "9635    L5           8962  1.290843  103.851701   15:53:26.82 2018-07-23     0\n",
       "9762    L5           9631  1.290862  103.851719  16:08:19.691 2018-07-23     0\n",
       "9870    L5             53  1.290866  103.851724  01:52:49.881 2018-07-16     0\n",
       "9871    L5             53  1.290866  103.851724   03:03:37.51 2018-07-16     0\n",
       "9872    L5            366  1.290866  103.851724  11:55:25.062 2018-07-16     0\n",
       "9873    L5            366  1.290866  103.851724  11:48:27.873 2018-07-16     0\n",
       "9874    L5           1143  1.290866  103.851724  06:20:16.905 2018-07-16     0\n",
       "9875    L5            141  1.290866  103.851724  10:20:06.201 2018-07-16     0\n",
       "9876    L5            141  1.290866  103.851724  12:06:09.307 2018-07-16     0\n",
       "9958    L5           9078  1.290866  103.851724  13:18:55.594 2018-07-23     0\n",
       "\n",
       "[844 rows x 7 columns]"
      ]
     },
     "execution_count": 24,
     "metadata": {},
     "output_type": "execute_result"
    }
   ],
   "source": [
    "# This is the dataframe containing all the data for day - Monday\n",
    "df_Mon"
   ]
  },
  {
   "cell_type": "code",
   "execution_count": 25,
   "metadata": {},
   "outputs": [
    {
     "data": {
      "image/png": "[encoded data removed]",
      "text/plain": [
       "<Figure size 432x288 with 1 Axes>"
      ]
     },
     "metadata": {
      "needs_background": "light"
     },
     "output_type": "display_data"
    }
   ],
   "source": [
    "# Checking the distribtion of lat-long pairs for all data found on all Mondays \n",
    "img=df_Mon.plot(x='lat', y='lng', style='o')"
   ]
  },
  {
   "cell_type": "code",
   "execution_count": 9,
   "metadata": {},
   "outputs": [],
   "source": [
    "#Implementing DBSCAN on all the above dataframes for clustering\n",
    "from sklearn.cluster import DBSCAN"
   ]
  },
  {
   "cell_type": "code",
   "execution_count": 76,
   "metadata": {},
   "outputs": [
    {
     "name": "stderr",
     "output_type": "stream",
     "text": [
      "/home/opc/anaconda3/lib/python3.7/site-packages/ipykernel_launcher.py:1: FutureWarning: Method .as_matrix will be removed in a future version. Use .values instead.\n",
      "  \"\"\"Entry point for launching an IPython kernel.\n"
     ]
    }
   ],
   "source": [
    "#Making a matrix out of the lat and long points to pass as input to the DBSCAN clustering algorithm\n",
    "coordsMonday = df_Mon.as_matrix(columns=['lat', 'lng'])"
   ]
  },
  {
   "cell_type": "code",
   "execution_count": 77,
   "metadata": {},
   "outputs": [
    {
     "data": {
      "text/plain": [
       "array([[  1.29069291, 103.8515545 ],\n",
       "       [  1.29078033, 103.85160322],\n",
       "       [  1.29078033, 103.85160322],\n",
       "       ...,\n",
       "       [  1.29086614, 103.85172392],\n",
       "       [  1.29086614, 103.85172392],\n",
       "       [  1.29086614, 103.85172392]])"
      ]
     },
     "execution_count": 77,
     "metadata": {},
     "output_type": "execute_result"
    }
   ],
   "source": [
    "coordsMonday"
   ]
  },
  {
   "cell_type": "code",
   "execution_count": 51,
   "metadata": {},
   "outputs": [],
   "source": [
    "#Scaling the plot for better visual representation\n",
    "C_scaled = scaler.fit_transform(coords)"
   ]
  },
  {
   "cell_type": "code",
   "execution_count": 52,
   "metadata": {},
   "outputs": [
    {
     "data": {
      "text/plain": [
       "<matplotlib.collections.PathCollection at 0x7fb705a13a58>"
      ]
     },
     "execution_count": 52,
     "metadata": {},
     "output_type": "execute_result"
    },
    {
     "data": {
      "image/png": "[encoded data removed]",
      "text/plain": [
       "<Figure size 432x288 with 1 Axes>"
      ]
     },
     "metadata": {
      "needs_background": "light"
     },
     "output_type": "display_data"
    }
   ],
   "source": [
    "plt.scatter(C_scaled[:, 0], C_scaled[:, 1])"
   ]
  },
  {
   "cell_type": "code",
   "execution_count": 74,
   "metadata": {},
   "outputs": [
    {
     "data": {
      "text/plain": [
       "Text(0, 0.5, 'lng')"
      ]
     },
     "execution_count": 74,
     "metadata": {},
     "output_type": "execute_result"
    },
    {
     "data": {
      "image/png": "[encoded data removed]",
      "text/plain": [
       "<Figure size 432x288 with 1 Axes>"
      ]
     },
     "metadata": {
      "needs_background": "light"
     },
     "output_type": "display_data"
    }
   ],
   "source": [
    "#These are the clusters as a result of DBSCAN algorithm\n",
    "dbscan = DBSCAN(eps=0.2, min_samples = 80)\n",
    "clusters = dbscan.fit_predict(C_scaled)\n",
    "plt.scatter(C_scaled[:, 0], C_scaled[:, 1], c=clusters, cmap=\"plasma\")\n",
    "plt.xlabel(\"lat\")\n",
    "plt.ylabel(\"lng\")"
   ]
  },
  {
   "cell_type": "code",
   "execution_count": 87,
   "metadata": {},
   "outputs": [
    {
     "name": "stderr",
     "output_type": "stream",
     "text": [
      "/home/opc/anaconda3/lib/python3.7/site-packages/ipykernel_launcher.py:2: FutureWarning: Method .as_matrix will be removed in a future version. Use .values instead.\n",
      "  \n"
     ]
    },
    {
     "name": "stdout",
     "output_type": "stream",
     "text": [
      "Mon Cluster Size: 4\n"
     ]
    },
    {
     "data": {
      "image/png": "[encoded data removed]",
      "text/plain": [
       "<Figure size 432x288 with 1 Axes>"
      ]
     },
     "metadata": {
      "needs_background": "light"
     },
     "output_type": "display_data"
    }
   ],
   "source": [
    "# Clustering implemented on all data points collected on all Mondays\n",
    "df_Mon=df.loc[df['days']==0]\n",
    "coordsMonday = df_Mon.as_matrix(columns=['lat', 'lng'])\n",
    "Mon_scaled = scaler.fit_transform(coordsMonday)\n",
    "dbscan = DBSCAN(eps=0.1, min_samples = 40)\n",
    "clusters = dbscan.fit_predict(Mon_scaled)\n",
    "plt.scatter(Mon_scaled[:, 0], Mon_scaled[:, 1], c=clusters, cmap=\"plasma\")\n",
    "plt.xlabel(\"lat\")\n",
    "plt.ylabel(\"lng\")\n",
    "print('Mon Cluster Size:',len(set(dbscan.labels_)))"
   ]
  },
  {
   "cell_type": "code",
   "execution_count": 34,
   "metadata": {},
   "outputs": [
    {
     "data": {
      "text/plain": [
       "0.0054461143734115015"
      ]
     },
     "execution_count": 34,
     "metadata": {},
     "output_type": "execute_result"
    }
   ],
   "source": [
    "#Calculating silhouette score of DBSCAN clustering\n",
    "from sklearn.metrics import silhouette_score as ss\n",
    "score = ss(df, clusters, metric='euclidean')\n",
    "score"
   ]
  },
  {
   "cell_type": "code",
   "execution_count": 36,
   "metadata": {},
   "outputs": [
    {
     "name": "stdout",
     "output_type": "stream",
     "text": [
      "Initialization complete\n",
      "start iteration\n",
      "done sorting\n",
      "end inner loop\n",
      "Iteration 0, inertia 4.433703589079276e-05\n",
      "start iteration\n",
      "done sorting\n",
      "end inner loop\n",
      "Iteration 1, inertia 4.147655712090649e-05\n",
      "start iteration\n",
      "done sorting\n",
      "end inner loop\n",
      "Iteration 2, inertia 4.0956418781853405e-05\n",
      "start iteration\n",
      "done sorting\n",
      "end inner loop\n",
      "Iteration 3, inertia 4.075026301178224e-05\n",
      "start iteration\n",
      "done sorting\n",
      "end inner loop\n",
      "Iteration 4, inertia 4.06833368951561e-05\n",
      "start iteration\n",
      "done sorting\n",
      "end inner loop\n",
      "Iteration 5, inertia 4.067264462124722e-05\n",
      "center shift 2.264156e-06 within tolerance 6.567644e-12\n",
      "Initialization complete\n",
      "start iteration\n",
      "done sorting\n",
      "end inner loop\n",
      "Iteration 0, inertia 4.5211028599444296e-05\n",
      "start iteration\n",
      "done sorting\n",
      "end inner loop\n",
      "Iteration 1, inertia 4.3229331026782824e-05\n",
      "start iteration\n",
      "done sorting\n",
      "end inner loop\n",
      "Iteration 2, inertia 4.278024618219269e-05\n",
      "start iteration\n",
      "done sorting\n",
      "end inner loop\n",
      "Iteration 3, inertia 4.254878328471216e-05\n",
      "start iteration\n",
      "done sorting\n",
      "end inner loop\n",
      "Iteration 4, inertia 4.2461976867196e-05\n",
      "start iteration\n",
      "done sorting\n",
      "end inner loop\n",
      "Iteration 5, inertia 4.2377483501802754e-05\n",
      "start iteration\n",
      "done sorting\n",
      "end inner loop\n",
      "Iteration 6, inertia 4.2323014176891684e-05\n",
      "start iteration\n",
      "done sorting\n",
      "end inner loop\n",
      "Iteration 7, inertia 4.2292888755694074e-05\n",
      "start iteration\n",
      "done sorting\n",
      "end inner loop\n",
      "Iteration 8, inertia 4.22728703578423e-05\n",
      "start iteration\n",
      "done sorting\n",
      "end inner loop\n",
      "Iteration 9, inertia 4.225951643710794e-05\n",
      "start iteration\n",
      "done sorting\n",
      "end inner loop\n",
      "Iteration 10, inertia 4.22493698897063e-05\n",
      "start iteration\n",
      "done sorting\n",
      "end inner loop\n",
      "Iteration 11, inertia 4.2211186609832905e-05\n",
      "start iteration\n",
      "done sorting\n",
      "end inner loop\n",
      "Iteration 12, inertia 4.2084176089257405e-05\n",
      "start iteration\n",
      "done sorting\n",
      "end inner loop\n",
      "Iteration 13, inertia 4.1591241225010726e-05\n",
      "start iteration\n",
      "done sorting\n",
      "end inner loop\n",
      "Iteration 14, inertia 4.128818986717888e-05\n",
      "start iteration\n",
      "done sorting\n",
      "end inner loop\n",
      "Iteration 15, inertia 4.115814867105025e-05\n",
      "start iteration\n",
      "done sorting\n",
      "end inner loop\n",
      "Iteration 16, inertia 4.1115185436861906e-05\n",
      "start iteration\n",
      "done sorting\n",
      "end inner loop\n",
      "Iteration 17, inertia 4.107823883965966e-05\n",
      "start iteration\n",
      "done sorting\n",
      "end inner loop\n",
      "Iteration 18, inertia 4.106766628057161e-05\n",
      "start iteration\n",
      "done sorting\n",
      "end inner loop\n",
      "Iteration 19, inertia 4.1063762706939594e-05\n",
      "center shift 2.217152e-06 within tolerance 6.567644e-12\n",
      "Initialization complete\n",
      "start iteration\n",
      "done sorting\n",
      "end inner loop\n",
      "Iteration 0, inertia 4.330116510800264e-05\n",
      "start iteration\n",
      "done sorting\n",
      "end inner loop\n",
      "Iteration 1, inertia 4.2806016850226695e-05\n",
      "start iteration\n",
      "done sorting\n",
      "end inner loop\n",
      "Iteration 2, inertia 4.277418758423517e-05\n",
      "start iteration\n",
      "done sorting\n",
      "end inner loop\n",
      "Iteration 3, inertia 4.27640070736338e-05\n",
      "start iteration\n",
      "done sorting\n",
      "end inner loop\n",
      "Iteration 4, inertia 4.2743441479068195e-05\n",
      "start iteration\n",
      "done sorting\n",
      "end inner loop\n",
      "Iteration 5, inertia 4.272292495436695e-05\n",
      "start iteration\n",
      "done sorting\n",
      "end inner loop\n",
      "Iteration 6, inertia 4.268631752072083e-05\n",
      "start iteration\n",
      "done sorting\n",
      "end inner loop\n",
      "Iteration 7, inertia 4.263513629553039e-05\n",
      "start iteration\n",
      "done sorting\n",
      "end inner loop\n",
      "Iteration 8, inertia 4.255557922408387e-05\n",
      "start iteration\n",
      "done sorting\n",
      "end inner loop\n",
      "Iteration 9, inertia 4.2525432441651454e-05\n",
      "start iteration\n",
      "done sorting\n",
      "end inner loop\n",
      "Iteration 10, inertia 4.25096148966315e-05\n",
      "start iteration\n",
      "done sorting\n",
      "end inner loop\n",
      "Iteration 11, inertia 4.249340356557605e-05\n",
      "start iteration\n",
      "done sorting\n",
      "end inner loop\n",
      "Iteration 12, inertia 4.248929781678819e-05\n",
      "center shift 2.017013e-06 within tolerance 6.567644e-12\n",
      "Initialization complete\n",
      "start iteration\n",
      "done sorting\n",
      "end inner loop\n",
      "Iteration 0, inertia 4.0391758624298234e-05\n",
      "start iteration\n",
      "done sorting\n",
      "end inner loop\n",
      "Iteration 1, inertia 3.9439838396288666e-05\n",
      "start iteration\n",
      "done sorting\n",
      "end inner loop\n",
      "Iteration 2, inertia 3.914361025931773e-05\n",
      "start iteration\n",
      "done sorting\n",
      "end inner loop\n",
      "Iteration 3, inertia 3.8974969832781124e-05\n",
      "start iteration\n",
      "done sorting\n",
      "end inner loop\n",
      "Iteration 4, inertia 3.82452529512074e-05\n",
      "start iteration\n",
      "done sorting\n",
      "end inner loop\n",
      "Iteration 5, inertia 3.768700036260257e-05\n",
      "start iteration\n",
      "done sorting\n",
      "end inner loop\n",
      "Iteration 6, inertia 3.7421812555352274e-05\n",
      "start iteration\n",
      "done sorting\n",
      "end inner loop\n",
      "Iteration 7, inertia 3.681975361094837e-05\n",
      "start iteration\n",
      "done sorting\n",
      "end inner loop\n",
      "Iteration 8, inertia 3.647433434420535e-05\n",
      "start iteration\n",
      "done sorting\n",
      "end inner loop\n",
      "Iteration 9, inertia 3.640866642934899e-05\n",
      "start iteration\n",
      "done sorting\n",
      "end inner loop\n",
      "Iteration 10, inertia 3.639836690894389e-05\n",
      "start iteration\n",
      "done sorting\n",
      "end inner loop\n",
      "Iteration 11, inertia 3.639381493663279e-05\n",
      "center shift 2.466580e-06 within tolerance 6.567644e-12\n",
      "Initialization complete\n",
      "start iteration\n",
      "done sorting\n",
      "end inner loop\n",
      "Iteration 0, inertia 4.511657227464807e-05\n",
      "start iteration\n",
      "done sorting\n",
      "end inner loop\n",
      "Iteration 1, inertia 4.249433260042109e-05\n",
      "start iteration\n",
      "done sorting\n",
      "end inner loop\n",
      "Iteration 2, inertia 4.180220567731069e-05\n",
      "start iteration\n",
      "done sorting\n",
      "end inner loop\n",
      "Iteration 3, inertia 4.153440105072571e-05\n",
      "start iteration\n",
      "done sorting\n",
      "end inner loop\n",
      "Iteration 4, inertia 4.1443607328174875e-05\n",
      "start iteration\n",
      "done sorting\n",
      "end inner loop\n",
      "Iteration 5, inertia 4.1385119256006645e-05\n",
      "start iteration\n",
      "done sorting\n",
      "end inner loop\n",
      "Iteration 6, inertia 4.13406587521203e-05\n",
      "start iteration\n",
      "done sorting\n",
      "end inner loop\n",
      "Iteration 7, inertia 4.132585182625373e-05\n",
      "start iteration\n",
      "done sorting\n",
      "end inner loop\n",
      "Iteration 8, inertia 4.1320959161820224e-05\n",
      "start iteration\n",
      "done sorting\n",
      "end inner loop\n",
      "Iteration 9, inertia 4.1317636978747896e-05\n",
      "center shift 2.455432e-06 within tolerance 6.567644e-12\n"
     ]
    },
    {
     "data": {
      "text/plain": [
       "KMeans(algorithm='auto', copy_x=True, init='k-means++', max_iter=300,\n",
       "    n_clusters=7, n_init=5, n_jobs=1, precompute_distances='auto',\n",
       "    random_state=3192, tol=0.0001, verbose=2)"
      ]
     },
     "execution_count": 36,
     "metadata": {},
     "output_type": "execute_result"
    }
   ],
   "source": [
    "#Implementing K-Means Clustering to compare with DBSCAN clustering \n",
    "from sklearn.cluster import KMeans\n",
    "clusterer = KMeans (n_clusters=7, init='k-means++', n_init=5, max_iter=300, tol=0.0001, verbose=2,precompute_distances='auto', random_state=3192, copy_x=True, n_jobs=1, algorithm='auto')\n",
    "clusterer.fit(df)"
   ]
  },
  {
   "cell_type": "code",
   "execution_count": 39,
   "metadata": {},
   "outputs": [
    {
     "data": {
      "text/plain": [
       "0.5251208296345569"
      ]
     },
     "execution_count": 39,
     "metadata": {},
     "output_type": "execute_result"
    }
   ],
   "source": [
    "# Checking the silhouette score of K-Means for comparison with the silhouette score of DBSCAN Clustering\n",
    "score_kmeans = ss(df,clusterer.labels_,metric='euclidean')\n",
    "score_kmeans"
   ]
  },
  {
   "cell_type": "code",
   "execution_count": 88,
   "metadata": {},
   "outputs": [
    {
     "name": "stderr",
     "output_type": "stream",
     "text": [
      "/home/opc/anaconda3/lib/python3.7/site-packages/ipykernel_launcher.py:2: FutureWarning: Method .as_matrix will be removed in a future version. Use .values instead.\n",
      "  \n"
     ]
    },
    {
     "name": "stdout",
     "output_type": "stream",
     "text": [
      "Mon Cluster Size: 5\n"
     ]
    },
    {
     "data": {
      "image/png": "[encoded data removed]",
      "text/plain": [
       "<Figure size 432x288 with 1 Axes>"
      ]
     },
     "metadata": {
      "needs_background": "light"
     },
     "output_type": "display_data"
    }
   ],
   "source": [
    "# Clustering implemented on all data points collected on all Tuesdays\n",
    "df_Tue=df.loc[df['days']==1]\n",
    "coordsTuesday = df_Tue.as_matrix(columns=['lat', 'lng'])\n",
    "Tue_scaled = scaler.fit_transform(coordsTuesday)\n",
    "dbscan = DBSCAN(eps=0.1, min_samples = 40)\n",
    "clusters = dbscan.fit_predict(Tue_scaled)\n",
    "plt.scatter(Tue_scaled[:, 0], Tue_scaled[:, 1], c=clusters, cmap=\"plasma\")\n",
    "plt.xlabel(\"lat\")\n",
    "plt.ylabel(\"lng\")\n",
    "print('Mon Cluster Size:',len(set(dbscan.labels_)))"
   ]
  },
  {
   "cell_type": "code",
   "execution_count": 90,
   "metadata": {},
   "outputs": [
    {
     "name": "stderr",
     "output_type": "stream",
     "text": [
      "/home/opc/anaconda3/lib/python3.7/site-packages/ipykernel_launcher.py:2: FutureWarning: Method .as_matrix will be removed in a future version. Use .values instead.\n",
      "  \n"
     ]
    },
    {
     "name": "stdout",
     "output_type": "stream",
     "text": [
      "Mon Cluster Size: 4\n"
     ]
    },
    {
     "data": {
      "image/png": "[encoded data removed]",
      "text/plain": [
       "<Figure size 432x288 with 1 Axes>"
      ]
     },
     "metadata": {
      "needs_background": "light"
     },
     "output_type": "display_data"
    }
   ],
   "source": [
    "# Clustering implemented on all data points collected on all Wednesdays\n",
    "df_Wed=df.loc[df['days']==2]\n",
    "coordsWed = df_Wed.as_matrix(columns=['lat', 'lng'])\n",
    "coordsWed = scaler.fit_transform(coordsWed)\n",
    "dbscan = DBSCAN(eps=0.1, min_samples = 40)\n",
    "clusters = dbscan.fit_predict(coordsWed)\n",
    "plt.scatter(coordsWed[:, 0], coordsWed[:, 1], c=clusters, cmap=\"plasma\")\n",
    "plt.xlabel(\"lat\")\n",
    "plt.ylabel(\"lng\")\n",
    "print('Mon Cluster Size:',len(set(dbscan.labels_)))"
   ]
  },
  {
   "cell_type": "code",
   "execution_count": 93,
   "metadata": {},
   "outputs": [
    {
     "name": "stderr",
     "output_type": "stream",
     "text": [
      "/home/opc/anaconda3/lib/python3.7/site-packages/ipykernel_launcher.py:2: FutureWarning: Method .as_matrix will be removed in a future version. Use .values instead.\n",
      "  \n"
     ]
    },
    {
     "name": "stdout",
     "output_type": "stream",
     "text": [
      "Mon Cluster Size: 2\n"
     ]
    },
    {
     "data": {
      "image/png": "[encoded data removed]",
      "text/plain": [
       "<Figure size 432x288 with 1 Axes>"
      ]
     },
     "metadata": {
      "needs_background": "light"
     },
     "output_type": "display_data"
    }
   ],
   "source": [
    "# Clustering implemented on all data points collected on all Thursdays\n",
    "df_Thu=df.loc[df['days']==3]\n",
    "coordsThu = df_Thu.as_matrix(columns=['lat', 'lng'])\n",
    "coordsThu = scaler.fit_transform(coordsThu)\n",
    "dbscan = DBSCAN(eps=0.1, min_samples = 40)\n",
    "clusters = dbscan.fit_predict(coordsThu)\n",
    "plt.scatter(coordsThu[:, 0], coordsThu[:, 1], c=clusters, cmap=\"plasma\")\n",
    "plt.xlabel(\"lat\")\n",
    "plt.ylabel(\"lng\")\n",
    "print('Mon Cluster Size:',len(set(dbscan.labels_)))"
   ]
  },
  {
   "cell_type": "code",
   "execution_count": 94,
   "metadata": {},
   "outputs": [
    {
     "name": "stderr",
     "output_type": "stream",
     "text": [
      "/home/opc/anaconda3/lib/python3.7/site-packages/ipykernel_launcher.py:2: FutureWarning: Method .as_matrix will be removed in a future version. Use .values instead.\n",
      "  \n"
     ]
    },
    {
     "name": "stdout",
     "output_type": "stream",
     "text": [
      "Mon Cluster Size: 5\n"
     ]
    },
    {
     "data": {
      "image/png": "[encoded data removed]",
      "text/plain": [
       "<Figure size 432x288 with 1 Axes>"
      ]
     },
     "metadata": {
      "needs_background": "light"
     },
     "output_type": "display_data"
    }
   ],
   "source": [
    "# Clustering implemented on all data points collected on all Fridays\n",
    "df_Fri=df.loc[df['days']==4]\n",
    "coordsFri = df_Fri.as_matrix(columns=['lat', 'lng'])\n",
    "coordsFri = scaler.fit_transform(coordsFri)\n",
    "dbscan = DBSCAN(eps=0.1, min_samples = 40)\n",
    "clusters = dbscan.fit_predict(coordsFri)\n",
    "plt.scatter(coordsFri[:, 0], coordsFri[:, 1], c=clusters, cmap=\"plasma\")\n",
    "plt.xlabel(\"lat\")\n",
    "plt.ylabel(\"lng\")\n",
    "print('Mon Cluster Size:',len(set(dbscan.labels_)))"
   ]
  },
  {
   "cell_type": "code",
   "execution_count": 95,
   "metadata": {},
   "outputs": [
    {
     "name": "stdout",
     "output_type": "stream",
     "text": [
      "Mon Cluster Size: 3\n"
     ]
    },
    {
     "name": "stderr",
     "output_type": "stream",
     "text": [
      "/home/opc/anaconda3/lib/python3.7/site-packages/ipykernel_launcher.py:2: FutureWarning: Method .as_matrix will be removed in a future version. Use .values instead.\n",
      "  \n"
     ]
    },
    {
     "data": {
      "image/png": "[encoded data removed]",
      "text/plain": [
       "<Figure size 432x288 with 1 Axes>"
      ]
     },
     "metadata": {
      "needs_background": "light"
     },
     "output_type": "display_data"
    }
   ],
   "source": [
    "# Clustering implemented on all data points collected on all Saturdays\n",
    "df_Sat=df.loc[df['days']==5]\n",
    "coordsSat = df_Sat.as_matrix(columns=['lat', 'lng'])\n",
    "coordsSat = scaler.fit_transform(coordsSat)\n",
    "dbscan = DBSCAN(eps=0.1, min_samples = 40)\n",
    "clusters = dbscan.fit_predict(coordsSat)\n",
    "plt.scatter(coordsSat[:, 0], coordsSat[:, 1], c=clusters, cmap=\"plasma\")\n",
    "plt.xlabel(\"lat\")\n",
    "plt.ylabel(\"lng\")\n",
    "print('Mon Cluster Size:',len(set(dbscan.labels_)))"
   ]
  },
  {
   "cell_type": "code",
   "execution_count": 97,
   "metadata": {},
   "outputs": [
    {
     "name": "stderr",
     "output_type": "stream",
     "text": [
      "/home/opc/anaconda3/lib/python3.7/site-packages/ipykernel_launcher.py:2: FutureWarning: Method .as_matrix will be removed in a future version. Use .values instead.\n",
      "  \n"
     ]
    },
    {
     "name": "stdout",
     "output_type": "stream",
     "text": [
      "Mon Cluster Size: 5\n"
     ]
    },
    {
     "data": {
      "image/png": "[encoded data removed]",
      "text/plain": [
       "<Figure size 432x288 with 1 Axes>"
      ]
     },
     "metadata": {
      "needs_background": "light"
     },
     "output_type": "display_data"
    }
   ],
   "source": [
    "# Clustering implemented on all data points collected on all Sundays\n",
    "df_Sun=df.loc[df['days']==6]\n",
    "coordsSun = df_Sun.as_matrix(columns=['lat', 'lng'])\n",
    "coordsSun = scaler.fit_transform(coordsSun)\n",
    "dbscan = DBSCAN(eps=0.1, min_samples = 40)\n",
    "clusters = dbscan.fit_predict(coordsSun)\n",
    "plt.scatter(coordsSun[:, 0], coordsSun[:, 1], c=clusters, cmap=\"plasma\")\n",
    "plt.xlabel(\"lat\")\n",
    "plt.ylabel(\"lng\")\n",
    "print('Mon Cluster Size:',len(set(dbscan.labels_)))"
   ]
  }
 ],
 "metadata": {
  "kernelspec": {
   "display_name": "Python 3",
   "language": "python",
   "name": "python3"
  },
  "language_info": {
   "codemirror_mode": {
    "name": "ipython",
    "version": 3
   },
   "file_extension": ".py",
   "mimetype": "text/x-python",
   "name": "python",
   "nbconvert_exporter": "python",
   "pygments_lexer": "ipython3",
   "version": "3.7.3"
  }
 },
 "nbformat": 4,
 "nbformat_minor": 2
}
