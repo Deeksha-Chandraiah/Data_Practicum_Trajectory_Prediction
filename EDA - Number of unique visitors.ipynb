{
 "cells": [
  {
   "cell_type": "markdown",
   "metadata": {},
   "source": [
    "**Author : Isha Patil**"
   ]
  },
  {
   "cell_type": "markdown",
   "metadata": {},
   "source": [
    "This notebook is used for Exploratory Data Analysis (EDA) to find the number of unique visitors in the Art Gallery based on unique mac ids provided in the dataset"
   ]
  },
  {
   "cell_type": "code",
   "execution_count": 1,
   "metadata": {},
   "outputs": [],
   "source": [
    "import pandas as pd\n",
    "import matplotlib\n",
    "from pandas import Series\n",
    "from matplotlib import pyplot\n",
    "%matplotlib inline\n",
    "matplotlib.rcParams['figure.figsize'] = [12.0,8.0]"
   ]
  },
  {
   "cell_type": "code",
   "execution_count": 2,
   "metadata": {},
   "outputs": [],
   "source": [
    "# Reading first 1 lakh rows of the dataset\n",
    "data=pd.read_csv(\"kiana_data.csv\", nrows=100000)\n",
    "\n",
    "# Grouping by Mac Addresses and sorting dates\n",
    "data_date=data.groupby('ClientMacAddr').apply(lambda x: x.sort_values('just_date'))"
   ]
  },
  {
   "cell_type": "code",
   "execution_count": 3,
   "metadata": {},
   "outputs": [],
   "source": [
    "# Making a new data frame with data for mac id 0\n",
    "df_0=data_date.loc[data_date['ClientMacAddr']==0]\n",
    "\n",
    "# Making a new dataframe with a particular date for mac id 0 \n",
    "df_date=df_0.loc[df_0['just_date']=='2018-07-07']\n",
    "\n",
    "# Finding min and max time of the particular date\n",
    "max=(df_date.iloc[:,4]).max()\n",
    "min=(df_date.iloc[:,4]).min()\n",
    "\n",
    "# Function to calculate the total time spent in the gallery by mac id 0 on a particular date\n",
    "from datetime import datetime\n",
    "s1 = min\n",
    "s2 = max\n",
    "FMT = '%H:%M:%S.%f'\n",
    "tdelta = datetime.strptime(s2, FMT) - datetime.strptime(s1, FMT)"
   ]
  },
  {
   "cell_type": "code",
   "execution_count": 4,
   "metadata": {},
   "outputs": [
    {
     "data": {
      "text/plain": [
       "datetime.timedelta(seconds=32050, microseconds=373000)"
      ]
     },
     "execution_count": 4,
     "metadata": {},
     "output_type": "execute_result"
    }
   ],
   "source": [
    "tdelta"
   ]
  },
  {
   "cell_type": "code",
   "execution_count": 5,
   "metadata": {},
   "outputs": [],
   "source": [
    "d=pd.read_csv(\"histogram.csv\")"
   ]
  },
  {
   "cell_type": "code",
   "execution_count": 6,
   "metadata": {},
   "outputs": [
    {
     "data": {
      "text/plain": [
       "(118, 2)"
      ]
     },
     "execution_count": 6,
     "metadata": {},
     "output_type": "execute_result"
    }
   ],
   "source": [
    "d.shape"
   ]
  },
  {
   "cell_type": "code",
   "execution_count": 7,
   "metadata": {},
   "outputs": [],
   "source": [
    "d.columns = ['dates', 'freq']"
   ]
  },
  {
   "cell_type": "code",
   "execution_count": 8,
   "metadata": {
    "scrolled": true
   },
   "outputs": [
    {
     "data": {
      "image/png": "[encoded data removed]",
      "text/plain": [
       "<Figure size 432x288 with 1 Axes>"
      ]
     },
     "metadata": {
      "needs_background": "light"
     },
     "output_type": "display_data"
    }
   ],
   "source": [
    "# Plotting the data for better visualization\n",
    "d.plot.hist(bins=30, alpha=0.5)\n",
    "pyplot.xticks(list(range(0,30000,2000)),rotation=70)\n",
    "pyplot.xlabel(\"Unique Visitors Per day\")\n",
    "pyplot.show()"
   ]
  },
  {
   "cell_type": "code",
   "execution_count": 9,
   "metadata": {},
   "outputs": [
    {
     "data": {
      "text/plain": [
       "<Figure size 432x288 with 0 Axes>"
      ]
     },
     "metadata": {},
     "output_type": "display_data"
    }
   ],
   "source": [
    "# This plot is saved in the home folder as histogram.jpeg for future reference\n",
    "pyplot.savefig(\"histogram.jpeg\")"
   ]
  }
 ],
 "metadata": {
  "kernelspec": {
   "display_name": "Python 3",
   "language": "python",
   "name": "python3"
  },
  "language_info": {
   "codemirror_mode": {
    "name": "ipython",
    "version": 3
   },
   "file_extension": ".py",
   "mimetype": "text/x-python",
   "name": "python",
   "nbconvert_exporter": "python",
   "pygments_lexer": "ipython3",
   "version": "3.7.3"
  }
 },
 "nbformat": 4,
 "nbformat_minor": 2
}
