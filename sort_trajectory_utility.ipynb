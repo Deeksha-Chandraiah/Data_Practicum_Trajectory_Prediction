{
 "cells": [
  {
   "cell_type": "markdown",
   "metadata": {},
   "source": [
    "    Author: Eswar Lakshminarayanan"
   ]
  },
  {
   "cell_type": "markdown",
   "metadata": {},
   "source": [
    "### Sort utility function\n",
    "\n",
    "    - The function below let's us sort the latitide, longitude points based on the time at which they are recoreded"
   ]
  },
  {
   "cell_type": "code",
   "execution_count": 1,
   "metadata": {},
   "outputs": [],
   "source": [
    "import pandas as pd\n",
    "import glob\n",
    "import pandas as pd"
   ]
  },
  {
   "cell_type": "code",
   "execution_count": 4,
   "metadata": {},
   "outputs": [
    {
     "name": "stdout",
     "output_type": "stream",
     "text": [
      "CPU times: user 1min 8s, sys: 6.66 s, total: 1min 14s\n",
      "Wall time: 2min 25s\n"
     ]
    }
   ],
   "source": [
    "%%time\n",
    "df = pd.read_csv(\"/home/opc/extra_space/pre_processing12/level1_data.csv\")"
   ]
  },
  {
   "cell_type": "code",
   "execution_count": 5,
   "metadata": {},
   "outputs": [
    {
     "data": {
      "text/plain": [
       "(9894093, 6)"
      ]
     },
     "execution_count": 5,
     "metadata": {},
     "output_type": "execute_result"
    }
   ],
   "source": [
    "df.shape"
   ]
  },
  {
   "cell_type": "code",
   "execution_count": 12,
   "metadata": {},
   "outputs": [],
   "source": [
    "df = df.head(100)"
   ]
  },
  {
   "cell_type": "code",
   "execution_count": 13,
   "metadata": {},
   "outputs": [],
   "source": [
    "from datetime import datetime\n",
    "def validate(date_text):\n",
    "    try:\n",
    "        temp = datetime.strptime(date_text, \"%H:%M:%S.%f\")\n",
    "    except ValueError:\n",
    "        temp = datetime.strptime(date_text, \"%H:%M:%S\")\n",
    "    return temp\n"
   ]
  },
  {
   "cell_type": "code",
   "execution_count": 14,
   "metadata": {},
   "outputs": [],
   "source": [
    "from ast import literal_eval\n",
    "counter = 0\n",
    "def fn(row):\n",
    "    global counter\n",
    "    counter+=1\n",
    "    if counter%1000==0:\n",
    "        print(counter)\n",
    "    final_list =[]\n",
    "    for level,lat,lng, justime in zip(eval(row[\"Level\"]), eval(row['lat']), eval(row['lng']),eval( row['just_time'])):\n",
    "        final_list.append((level,lat,lng, justime))\n",
    "        \n",
    "    if len(final_list)>1:\n",
    "        final_list.sort(key=lambda tup: validate(tup[3])) \n",
    "    return final_list\n"
   ]
  },
  {
   "cell_type": "code",
   "execution_count": 20,
   "metadata": {},
   "outputs": [
    {
     "name": "stdout",
     "output_type": "stream",
     "text": [
      "CPU times: user 2.47 s, sys: 22.7 ms, total: 2.49 s\n",
      "Wall time: 2.49 s\n"
     ]
    }
   ],
   "source": [
    "%%time\n",
    "ff=df[['Level', 'lat','lng','just_time']].apply(lambda x: fn(x),axis=1)"
   ]
  },
  {
   "cell_type": "code",
   "execution_count": 23,
   "metadata": {},
   "outputs": [
    {
     "data": {
      "text/html": [
       "<div>\n",
       "<style scoped>\n",
       "    .dataframe tbody tr th:only-of-type {\n",
       "        vertical-align: middle;\n",
       "    }\n",
       "\n",
       "    .dataframe tbody tr th {\n",
       "        vertical-align: top;\n",
       "    }\n",
       "\n",
       "    .dataframe thead th {\n",
       "        text-align: right;\n",
       "    }\n",
       "</style>\n",
       "<table border=\"1\" class=\"dataframe\">\n",
       "  <thead>\n",
       "    <tr style=\"text-align: right;\">\n",
       "      <th></th>\n",
       "      <th>ClientMacAddr</th>\n",
       "      <th>just_date</th>\n",
       "      <th>Level</th>\n",
       "      <th>lat</th>\n",
       "      <th>lng</th>\n",
       "      <th>just_time</th>\n",
       "    </tr>\n",
       "  </thead>\n",
       "  <tbody>\n",
       "    <tr>\n",
       "      <th>0</th>\n",
       "      <td>0</td>\n",
       "      <td>2018-04-01</td>\n",
       "      <td>['L5', 'L5', 'L5', 'L5', 'L5']</td>\n",
       "      <td>[1.2906748, 1.2906748, 1.2906748, 1.2906748, 1...</td>\n",
       "      <td>[103.851654, 103.851654, 103.851654, 103.85165...</td>\n",
       "      <td>['14:03:43', '14:03:33', '14:03:33', '14:03:43...</td>\n",
       "    </tr>\n",
       "  </tbody>\n",
       "</table>\n",
       "</div>"
      ],
      "text/plain": [
       "   ClientMacAddr   just_date                           Level  \\\n",
       "0              0  2018-04-01  ['L5', 'L5', 'L5', 'L5', 'L5']   \n",
       "\n",
       "                                                 lat  \\\n",
       "0  [1.2906748, 1.2906748, 1.2906748, 1.2906748, 1...   \n",
       "\n",
       "                                                 lng  \\\n",
       "0  [103.851654, 103.851654, 103.851654, 103.85165...   \n",
       "\n",
       "                                           just_time  \n",
       "0  ['14:03:43', '14:03:33', '14:03:33', '14:03:43...  "
      ]
     },
     "execution_count": 23,
     "metadata": {},
     "output_type": "execute_result"
    }
   ],
   "source": [
    "df.head(1)"
   ]
  }
 ],
 "metadata": {
  "kernelspec": {
   "display_name": "Python 3",
   "language": "python",
   "name": "python3"
  },
  "language_info": {
   "codemirror_mode": {
    "name": "ipython",
    "version": 3
   },
   "file_extension": ".py",
   "mimetype": "text/x-python",
   "name": "python",
   "nbconvert_exporter": "python",
   "pygments_lexer": "ipython3",
   "version": "3.7.2"
  }
 },
 "nbformat": 4,
 "nbformat_minor": 2
}
